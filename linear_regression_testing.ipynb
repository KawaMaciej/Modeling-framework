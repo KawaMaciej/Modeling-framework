{
 "cells": [
  {
   "cell_type": "code",
   "execution_count": 30,
   "id": "e86ffa10",
   "metadata": {},
   "outputs": [],
   "source": [
    "import numpy as np\n",
    "from models.linear import LinearRegression\n",
    "from models.logistic import LogisticRegression\n",
    "from metrics.classification_metrics import *\n",
    "from models.onevsall import OVA\n",
    "from models.svm import SVMClassificator\n",
    "from models.decision_trees import DecisionTreeClassifier\n",
    "from models.onevsone import OVO\n",
    "from models.adaboost import AdaBoostClassifier\n",
    "from sklearn.datasets import make_classification\n",
    "from models.adaboost import AdaBoostRegressor\n",
    "from metrics.regression_metrics import *\n",
    "from models.decision_trees import DecisionTreeRegressor\n"
   ]
  },
  {
   "cell_type": "code",
   "execution_count": 31,
   "id": "468f8864",
   "metadata": {},
   "outputs": [],
   "source": [
    "from sklearn import datasets\n",
    "\n",
    "iris = datasets.load_iris()\n",
    "\n",
    "X = iris.data # type: ignore\n",
    "Y = iris.target # type: ignore"
   ]
  },
  {
   "cell_type": "code",
   "execution_count": 32,
   "id": "1b2636c1",
   "metadata": {},
   "outputs": [],
   "source": [
    "#n_samples = 500\n",
    "#np.random.seed(42)\n",
    "\n",
    "#classes = [\"A\", \"B\", \"C\", \"D\"]\n",
    "\n",
    "#random_classes = np.random.choice(classes, size=n_samples)\n",
    "\n",
    "\n",
    "#class_to_int = {label: idx for idx, label in enumerate(classes)}\n",
    "#random_classes_int = np.vectorize(class_to_int.get)(random_classes)"
   ]
  },
  {
   "cell_type": "code",
   "execution_count": 33,
   "id": "cf74d7bc",
   "metadata": {},
   "outputs": [],
   "source": [
    "#X = np.random.normal(2, 2, n_samples)\n",
    "#Z = np.random.normal(9, 1, n_samples) \n",
    "#P = np.random.beta(1, 2, n_samples)\n",
    "\n",
    "#Y = 2*X +  np.random.normal(0, 0.5, n_samples) + P + Z + random_classes_int * X \n",
    "\n",
    "#X= np.column_stack((X,X**2, Z + X, X * P, P, random_classes_int))"
   ]
  },
  {
   "cell_type": "code",
   "execution_count": 34,
   "id": "4a214669",
   "metadata": {},
   "outputs": [
    {
     "name": "stdout",
     "output_type": "stream",
     "text": [
      "Converged at iteration 13, Δloss = 0.000086\n",
      "Converged at iteration 12, Δloss = 0.000037\n"
     ]
    }
   ],
   "source": [
    "reg = LinearRegression(regularization=\"None\").fit(X,Y)\n",
    "ridge = LinearRegression(regularization=\"Ridge\").fit(X,Y)\n",
    "lasso = LinearRegression(regularization=\"Lasso\", n_iter = 10000, lr=0.001).fit(X,Y)\n",
    "elastic = LinearRegression(regularization=\"ElasticNet\", n_iter = 10000, lr=0.001, alpha=0.4).fit(X,Y)"
   ]
  },
  {
   "cell_type": "code",
   "execution_count": 35,
   "id": "8738d918",
   "metadata": {},
   "outputs": [
    {
     "name": "stdout",
     "output_type": "stream",
     "text": [
      "╒══════════╤═════════╕\n",
      "│ Metric   │   Value │\n",
      "╞══════════╪═════════╡\n",
      "│ MAE      │  0.335  │\n",
      "├──────────┼─────────┤\n",
      "│ RMSE     │  0.3713 │\n",
      "├──────────┼─────────┤\n",
      "│ MSE      │  0.1378 │\n",
      "╘══════════╧═════════╛\n",
      "╒══════════╤═════════╕\n",
      "│ Metric   │   Value │\n",
      "╞══════════╪═════════╡\n",
      "│ MAE      │   0.201 │\n",
      "├──────────┼─────────┤\n",
      "│ RMSE     │   0.249 │\n",
      "├──────────┼─────────┤\n",
      "│ MSE      │   0.062 │\n",
      "╘══════════╧═════════╛\n",
      "╒══════════╤═════════╕\n",
      "│ Metric   │   Value │\n",
      "╞══════════╪═════════╡\n",
      "│ MAE      │  0.1652 │\n",
      "├──────────┼─────────┤\n",
      "│ RMSE     │  0.2161 │\n",
      "├──────────┼─────────┤\n",
      "│ MSE      │  0.0467 │\n",
      "╘══════════╧═════════╛\n",
      "None None None\n"
     ]
    },
    {
     "data": {
      "text/plain": [
       "(np.float64(0.7932356265087651),\n",
       " np.float64(0.9070035948123093),\n",
       " np.float64(0.929974566172795))"
      ]
     },
     "execution_count": 35,
     "metadata": {},
     "output_type": "execute_result"
    }
   ],
   "source": [
    "elastic_pred = elastic.predict(X)\n",
    "print(elastic.print_errors(Y, elastic_pred), lasso.print_errors(Y, lasso.predict(X)), ridge.print_errors(Y, ridge.predict(X)))\n",
    "elastic.score(X, Y), lasso.score(X, Y), ridge.score(X, Y)"
   ]
  },
  {
   "cell_type": "code",
   "execution_count": 36,
   "id": "e2561b93",
   "metadata": {},
   "outputs": [
    {
     "name": "stdout",
     "output_type": "stream",
     "text": [
      "Model score:0.9303939218549563\n",
      "R adjusted:0.906069897754173\n",
      "Beta: [ 0.18649525 -0.11190585 -0.04007949  0.22864503  0.60925205]\n",
      "Cross validation score: {'MAE': 0.1706, 'RMSE': 0.2201, 'MSE': 0.0489, 'R2': 0.924}\n",
      "================================================================================\n",
      "        The Ramsey RESET test for linearity\n",
      "        Test Statistic : 21.3944 \n",
      "        P-value        : 0.0 \n",
      "        Interpretation : Model may be misspecified (nonlinearity exists) ❌ \n",
      "================================================================================\n",
      "        \n",
      "================================================================================\n",
      "        Breusch-Pagan Test for Heteroscedasticity\n",
      "        Test Statistic : 32.3809\n",
      "        P-value        : 0.0\n",
      "        Interpretation : Heteroscedasticity detected — variance of residuals is not constant. ❌\n",
      "================================================================================\n",
      "        \n",
      "================================================================================\n",
      "        Durbin-Watson Test for Independence of Errors\n",
      "        DW Statistic  : 1.0767\n",
      "        Interpretation: Possible positive autocorrelation ❌ \n",
      "    ================================================================================\n",
      "        \n",
      "================================================================================\n",
      "        VIF Test for Multicollinearity\n",
      "        Feature 1: VIF = 7.072722013939539 | Multicollinearity ❌\n",
      "        Feature 2: VIF = 2.100871676124254 | No Multicollinearity ✅\n",
      "        Feature 3: VIF = 31.26149777492164 | Multicollinearity ❌\n",
      "        Feature 4: VIF = 16.090175419908462 | Multicollinearity ❌\n",
      "================================================================================\n",
      "================================================================================\n",
      "        Shapiro-Wilk normality test of residuals \n",
      "\n",
      "        Residuals are from normal distribution ✅\n",
      "================================================================================\n",
      "╒══════════╤═════════╕\n",
      "│ Metric   │   Value │\n",
      "╞══════════╪═════════╡\n",
      "│ MAE      │  0.1653 │\n",
      "├──────────┼─────────┤\n",
      "│ RMSE     │  0.2154 │\n",
      "├──────────┼─────────┤\n",
      "│ MSE      │  0.0464 │\n",
      "╘══════════╧═════════╛\n"
     ]
    },
    {
     "data": {
      "application/vnd.plotly.v1+json": {
       "config": {
        "plotlyServerURL": "https://plot.ly"
       },
       "data": [
        {
         "mode": "markers",
         "name": "Data Points",
         "type": "scatter",
         "x": {
          "bdata": "ZmZmZmZmFECamZmZmZkTQM3MzMzMzBJAZmZmZmZmEkAAAAAAAAAUQJqZmZmZmRVAZmZmZmZmEkAAAAAAAAAUQJqZmZmZmRFAmpmZmZmZE0CamZmZmZkVQDMzMzMzMxNAMzMzMzMzE0AzMzMzMzMRQDMzMzMzMxdAzczMzMzMFkCamZmZmZkVQGZmZmZmZhRAzczMzMzMFkBmZmZmZmYUQJqZmZmZmRVAZmZmZmZmFEBmZmZmZmYSQGZmZmZmZhRAMzMzMzMzE0AAAAAAAAAUQAAAAAAAABRAzczMzMzMFEDNzMzMzMwUQM3MzMzMzBJAMzMzMzMzE0CamZmZmZkVQM3MzMzMzBRAAAAAAAAAFkCamZmZmZkTQAAAAAAAABRAAAAAAAAAFkCamZmZmZkTQJqZmZmZmRFAZmZmZmZmFEAAAAAAAAAUQAAAAAAAABJAmpmZmZmZEUAAAAAAAAAUQGZmZmZmZhRAMzMzMzMzE0BmZmZmZmYUQGZmZmZmZhJAMzMzMzMzFUAAAAAAAAAUQAAAAAAAABxAmpmZmZmZGUCamZmZmZkbQAAAAAAAABZAAAAAAAAAGkDNzMzMzMwWQDMzMzMzMxlAmpmZmZmZE0BmZmZmZmYaQM3MzMzMzBRAAAAAAAAAFECamZmZmZkXQAAAAAAAABhAZmZmZmZmGEBmZmZmZmYWQM3MzMzMzBpAZmZmZmZmFkAzMzMzMzMXQM3MzMzMzBhAZmZmZmZmFkCamZmZmZkXQGZmZmZmZhhAMzMzMzMzGUBmZmZmZmYYQJqZmZmZmRlAZmZmZmZmGkAzMzMzMzMbQM3MzMzMzBpAAAAAAAAAGEDNzMzMzMwWQAAAAAAAABZAAAAAAAAAFkAzMzMzMzMXQAAAAAAAABhAmpmZmZmZFUAAAAAAAAAYQM3MzMzMzBpAMzMzMzMzGUBmZmZmZmYWQAAAAAAAABZAAAAAAAAAFkBmZmZmZmYYQDMzMzMzMxdAAAAAAAAAFEBmZmZmZmYWQM3MzMzMzBZAzczMzMzMFkDNzMzMzMwYQGZmZmZmZhRAzczMzMzMFkAzMzMzMzMZQDMzMzMzMxdAZmZmZmZmHEAzMzMzMzMZQAAAAAAAABpAZmZmZmZmHkCamZmZmZkTQDMzMzMzMx1AzczMzMzMGkDNzMzMzMwcQAAAAAAAABpAmpmZmZmZGUAzMzMzMzMbQM3MzMzMzBZAMzMzMzMzF0CamZmZmZkZQAAAAAAAABpAzczMzMzMHkDNzMzMzMweQAAAAAAAABhAmpmZmZmZG0BmZmZmZmYWQM3MzMzMzB5AMzMzMzMzGUDNzMzMzMwaQM3MzMzMzBxAzczMzMzMGEBmZmZmZmYYQJqZmZmZmRlAzczMzMzMHECamZmZmZkdQJqZmZmZmR9AmpmZmZmZGUAzMzMzMzMZQGZmZmZmZhhAzczMzMzMHkAzMzMzMzMZQJqZmZmZmRlAAAAAAAAAGECamZmZmZkbQM3MzMzMzBpAmpmZmZmZG0AzMzMzMzMXQDMzMzMzMxtAzczMzMzMGkDNzMzMzMwaQDMzMzMzMxlAAAAAAAAAGkDNzMzMzMwYQJqZmZmZmRdA",
          "dtype": "f8"
         },
         "y": {
          "bdata": "AAAAAAAAAAAAAAAAAAAAAAAAAAAAAAAAAAAAAAAAAAAAAAAAAAAAAAAAAAAAAAAAAAABAQEBAQEBAQEBAQEBAQEBAQEBAQEBAQEBAQEBAQEBAQEBAQEBAQEBAQEBAQEBAQEBAQICAgICAgICAgICAgICAgICAgICAgICAgICAgICAgICAgICAgICAgICAgICAgICAgIC",
          "dtype": "i1"
         }
        },
        {
         "marker": {
          "color": "red"
         },
         "mode": "markers",
         "name": "Model Prediction",
         "type": "scatter",
         "x": {
          "bdata": "ZmZmZmZmFECamZmZmZkTQM3MzMzMzBJAZmZmZmZmEkAAAAAAAAAUQJqZmZmZmRVAZmZmZmZmEkAAAAAAAAAUQJqZmZmZmRFAmpmZmZmZE0CamZmZmZkVQDMzMzMzMxNAMzMzMzMzE0AzMzMzMzMRQDMzMzMzMxdAzczMzMzMFkCamZmZmZkVQGZmZmZmZhRAzczMzMzMFkBmZmZmZmYUQJqZmZmZmRVAZmZmZmZmFEBmZmZmZmYSQGZmZmZmZhRAMzMzMzMzE0AAAAAAAAAUQAAAAAAAABRAzczMzMzMFEDNzMzMzMwUQM3MzMzMzBJAMzMzMzMzE0CamZmZmZkVQM3MzMzMzBRAAAAAAAAAFkCamZmZmZkTQAAAAAAAABRAAAAAAAAAFkCamZmZmZkTQJqZmZmZmRFAZmZmZmZmFEAAAAAAAAAUQAAAAAAAABJAmpmZmZmZEUAAAAAAAAAUQGZmZmZmZhRAMzMzMzMzE0BmZmZmZmYUQGZmZmZmZhJAMzMzMzMzFUAAAAAAAAAUQAAAAAAAABxAmpmZmZmZGUCamZmZmZkbQAAAAAAAABZAAAAAAAAAGkDNzMzMzMwWQDMzMzMzMxlAmpmZmZmZE0BmZmZmZmYaQM3MzMzMzBRAAAAAAAAAFECamZmZmZkXQAAAAAAAABhAZmZmZmZmGEBmZmZmZmYWQM3MzMzMzBpAZmZmZmZmFkAzMzMzMzMXQM3MzMzMzBhAZmZmZmZmFkCamZmZmZkXQGZmZmZmZhhAMzMzMzMzGUBmZmZmZmYYQJqZmZmZmRlAZmZmZmZmGkAzMzMzMzMbQM3MzMzMzBpAAAAAAAAAGEDNzMzMzMwWQAAAAAAAABZAAAAAAAAAFkAzMzMzMzMXQAAAAAAAABhAmpmZmZmZFUAAAAAAAAAYQM3MzMzMzBpAMzMzMzMzGUBmZmZmZmYWQAAAAAAAABZAAAAAAAAAFkBmZmZmZmYYQDMzMzMzMxdAAAAAAAAAFEBmZmZmZmYWQM3MzMzMzBZAzczMzMzMFkDNzMzMzMwYQGZmZmZmZhRAzczMzMzMFkAzMzMzMzMZQDMzMzMzMxdAZmZmZmZmHEAzMzMzMzMZQAAAAAAAABpAZmZmZmZmHkCamZmZmZkTQDMzMzMzMx1AzczMzMzMGkDNzMzMzMwcQAAAAAAAABpAmpmZmZmZGUAzMzMzMzMbQM3MzMzMzBZAMzMzMzMzF0CamZmZmZkZQAAAAAAAABpAzczMzMzMHkDNzMzMzMweQAAAAAAAABhAmpmZmZmZG0BmZmZmZmYWQM3MzMzMzB5AMzMzMzMzGUDNzMzMzMwaQM3MzMzMzBxAzczMzMzMGEBmZmZmZmYYQJqZmZmZmRlAzczMzMzMHECamZmZmZkdQJqZmZmZmR9AmpmZmZmZGUAzMzMzMzMZQGZmZmZmZhhAzczMzMzMHkAzMzMzMzMZQJqZmZmZmRlAAAAAAAAAGECamZmZmZkbQM3MzMzMzBpAmpmZmZmZG0AzMzMzMzMXQDMzMzMzMxtAzczMzMzMGkDNzMzMzMwaQDMzMzMzMxlAAAAAAAAAGkDNzMzMzMwYQJqZmZmZmRdA",
          "dtype": "f8"
         },
         "y": {
          "bdata": "3MxVePQhtb8gn8tDt4ukv7jZBxO65ai/cEYuoKswiT/qj2zSO0uzv8TrQZ5R2K0/5Ltq2N6goz8EXXlc6camv7j+mLfzTpQ/7viTe94Ktb/MJX/Q/uy5vwBx1uLg4Ug/HAlcGEQBt7/OZEHbrT26v4CxiYbwAs2/MDDymHAEpb+MzkL9Q/ugvxDFWo6kJJa/mE0y0EF8oL8ASSjKqBWGvxgQ/oA1SKa/EG+z54C5qz/uZAsnez+/v/ZKfAiNosY/xHIX3BvBsT8AMNiUkeV2v/4fsq6UqLk/oBcuo+Qksr/eCT8erfi2vxBkN0PscZQ/UOAkVxMuij8kATwELbGgP8aIFaXW8sO/MmwLvhPjw79IdVObTMiVv0wqz1d45bq/JvZ0Uvk4w7+/ZHEkUgPAv4DKn97/1Xy/BCELGa+BrL8YzXzxcQyhv0jAKQOwHLI/IDZKdaPVjr8QWeiPwOnLP9Q3noTwH8I/MFxEIqVgoD/YGid1GwKpv2CcU7472I2/xEM28psPt7/AoE0pPTewv3iSvUxgPfM/DMb2vqOO9D+MH+IpfDD1P05/CtmN9/I/oiphSh8A9T/ArrYjEB70P39eD1XqYPY/xIT19N/77D++vl4Oxc7yP7AotV5L2/M/3WA4YiWa7j/yZNRpsnv0P527a+5GbO4/kIBY1CcL9T927SUpm/DwP8waTPhXvvI/sisndSoe9j/gPzCZwzrvP3ap+316jvU/pA9LziFY8D85fvZFbnn5P/ZGEZRzkvE/NlJhEgGm9j9tl0YNeSjzP6K+guh7EfI/PqO2yZj88j9wodVhXjj0PwYjAL9T7fc/ge0aYTx39T9L33A1b1PrP6COfnS7OPA/5Cb3Jw/D7T968MHgLNXwP5gMvWCJw/g/9Efw0NZ59j+m+8jksx72P+QoPS/a0PQ/HDTCFnn/8j9sIrNddLTyP6yK/pG41vI/dMQI5l1D8z/KfJsFFp30P0D0fq8+Q/E/JV044AjB7D/UGnxzW0PzPwasuaW46vE/EZiL/q/08j/j2ktEKG3yP1oCpV3g5Os/7YjadnOn8j95LEPzLPQBQAT+adzbC/w/hgaNYQ5n/j9PgK7SjuD7P8ahfn/8CgBACcFL1bgIAECe1ZxSNKT5Pzo1QjbDpfw/+kOi/y4m/D8nOhHFHDwBQEYp2B54cvs/K7x8HyW0+z8Ti14+9Hn9Pw1pb9ts9vw/Kt6vYZhtAEB9nw7DQkj/P0hgKKjQFvs/TQ6DIL1bAECD7oN7qpgBQP7017Fqvvc/rf5zirDZ/z/H/orzW5X8P04AqjmLaP8/wTI569Fx+T8sPR/Y2DH+Pwq47/djifs/Gr1gSpYx+T8QYHBcPpz5P6zBM2jJr/4/Trb1fdH7+D86gMEKlsb8P4gAAPm+T/0/ZrN/HVap/z8rdj1+DzD3P5zE2UNIh/g/DtSbhzgBAECKI2zw4rMAQBj0hjI8NPs/uuQdX21s+T8u+bxBDN78P8L+64nWcABAQcCvKjC4/T8E/mnc2wv8P9xPY4dqYQBACYKn1gUMAUBK4DVV7oH+P5AiyBLb6fo/XicbkfTw+z+S0AIDweD/PzmPpw45s/o/",
          "dtype": "f8"
         }
        }
       ],
       "layout": {
        "template": {
         "data": {
          "bar": [
           {
            "error_x": {
             "color": "#2a3f5f"
            },
            "error_y": {
             "color": "#2a3f5f"
            },
            "marker": {
             "line": {
              "color": "#E5ECF6",
              "width": 0.5
             },
             "pattern": {
              "fillmode": "overlay",
              "size": 10,
              "solidity": 0.2
             }
            },
            "type": "bar"
           }
          ],
          "barpolar": [
           {
            "marker": {
             "line": {
              "color": "#E5ECF6",
              "width": 0.5
             },
             "pattern": {
              "fillmode": "overlay",
              "size": 10,
              "solidity": 0.2
             }
            },
            "type": "barpolar"
           }
          ],
          "carpet": [
           {
            "aaxis": {
             "endlinecolor": "#2a3f5f",
             "gridcolor": "white",
             "linecolor": "white",
             "minorgridcolor": "white",
             "startlinecolor": "#2a3f5f"
            },
            "baxis": {
             "endlinecolor": "#2a3f5f",
             "gridcolor": "white",
             "linecolor": "white",
             "minorgridcolor": "white",
             "startlinecolor": "#2a3f5f"
            },
            "type": "carpet"
           }
          ],
          "choropleth": [
           {
            "colorbar": {
             "outlinewidth": 0,
             "ticks": ""
            },
            "type": "choropleth"
           }
          ],
          "contour": [
           {
            "colorbar": {
             "outlinewidth": 0,
             "ticks": ""
            },
            "colorscale": [
             [
              0,
              "#0d0887"
             ],
             [
              0.1111111111111111,
              "#46039f"
             ],
             [
              0.2222222222222222,
              "#7201a8"
             ],
             [
              0.3333333333333333,
              "#9c179e"
             ],
             [
              0.4444444444444444,
              "#bd3786"
             ],
             [
              0.5555555555555556,
              "#d8576b"
             ],
             [
              0.6666666666666666,
              "#ed7953"
             ],
             [
              0.7777777777777778,
              "#fb9f3a"
             ],
             [
              0.8888888888888888,
              "#fdca26"
             ],
             [
              1,
              "#f0f921"
             ]
            ],
            "type": "contour"
           }
          ],
          "contourcarpet": [
           {
            "colorbar": {
             "outlinewidth": 0,
             "ticks": ""
            },
            "type": "contourcarpet"
           }
          ],
          "heatmap": [
           {
            "colorbar": {
             "outlinewidth": 0,
             "ticks": ""
            },
            "colorscale": [
             [
              0,
              "#0d0887"
             ],
             [
              0.1111111111111111,
              "#46039f"
             ],
             [
              0.2222222222222222,
              "#7201a8"
             ],
             [
              0.3333333333333333,
              "#9c179e"
             ],
             [
              0.4444444444444444,
              "#bd3786"
             ],
             [
              0.5555555555555556,
              "#d8576b"
             ],
             [
              0.6666666666666666,
              "#ed7953"
             ],
             [
              0.7777777777777778,
              "#fb9f3a"
             ],
             [
              0.8888888888888888,
              "#fdca26"
             ],
             [
              1,
              "#f0f921"
             ]
            ],
            "type": "heatmap"
           }
          ],
          "histogram": [
           {
            "marker": {
             "pattern": {
              "fillmode": "overlay",
              "size": 10,
              "solidity": 0.2
             }
            },
            "type": "histogram"
           }
          ],
          "histogram2d": [
           {
            "colorbar": {
             "outlinewidth": 0,
             "ticks": ""
            },
            "colorscale": [
             [
              0,
              "#0d0887"
             ],
             [
              0.1111111111111111,
              "#46039f"
             ],
             [
              0.2222222222222222,
              "#7201a8"
             ],
             [
              0.3333333333333333,
              "#9c179e"
             ],
             [
              0.4444444444444444,
              "#bd3786"
             ],
             [
              0.5555555555555556,
              "#d8576b"
             ],
             [
              0.6666666666666666,
              "#ed7953"
             ],
             [
              0.7777777777777778,
              "#fb9f3a"
             ],
             [
              0.8888888888888888,
              "#fdca26"
             ],
             [
              1,
              "#f0f921"
             ]
            ],
            "type": "histogram2d"
           }
          ],
          "histogram2dcontour": [
           {
            "colorbar": {
             "outlinewidth": 0,
             "ticks": ""
            },
            "colorscale": [
             [
              0,
              "#0d0887"
             ],
             [
              0.1111111111111111,
              "#46039f"
             ],
             [
              0.2222222222222222,
              "#7201a8"
             ],
             [
              0.3333333333333333,
              "#9c179e"
             ],
             [
              0.4444444444444444,
              "#bd3786"
             ],
             [
              0.5555555555555556,
              "#d8576b"
             ],
             [
              0.6666666666666666,
              "#ed7953"
             ],
             [
              0.7777777777777778,
              "#fb9f3a"
             ],
             [
              0.8888888888888888,
              "#fdca26"
             ],
             [
              1,
              "#f0f921"
             ]
            ],
            "type": "histogram2dcontour"
           }
          ],
          "mesh3d": [
           {
            "colorbar": {
             "outlinewidth": 0,
             "ticks": ""
            },
            "type": "mesh3d"
           }
          ],
          "parcoords": [
           {
            "line": {
             "colorbar": {
              "outlinewidth": 0,
              "ticks": ""
             }
            },
            "type": "parcoords"
           }
          ],
          "pie": [
           {
            "automargin": true,
            "type": "pie"
           }
          ],
          "scatter": [
           {
            "fillpattern": {
             "fillmode": "overlay",
             "size": 10,
             "solidity": 0.2
            },
            "type": "scatter"
           }
          ],
          "scatter3d": [
           {
            "line": {
             "colorbar": {
              "outlinewidth": 0,
              "ticks": ""
             }
            },
            "marker": {
             "colorbar": {
              "outlinewidth": 0,
              "ticks": ""
             }
            },
            "type": "scatter3d"
           }
          ],
          "scattercarpet": [
           {
            "marker": {
             "colorbar": {
              "outlinewidth": 0,
              "ticks": ""
             }
            },
            "type": "scattercarpet"
           }
          ],
          "scattergeo": [
           {
            "marker": {
             "colorbar": {
              "outlinewidth": 0,
              "ticks": ""
             }
            },
            "type": "scattergeo"
           }
          ],
          "scattergl": [
           {
            "marker": {
             "colorbar": {
              "outlinewidth": 0,
              "ticks": ""
             }
            },
            "type": "scattergl"
           }
          ],
          "scattermap": [
           {
            "marker": {
             "colorbar": {
              "outlinewidth": 0,
              "ticks": ""
             }
            },
            "type": "scattermap"
           }
          ],
          "scattermapbox": [
           {
            "marker": {
             "colorbar": {
              "outlinewidth": 0,
              "ticks": ""
             }
            },
            "type": "scattermapbox"
           }
          ],
          "scatterpolar": [
           {
            "marker": {
             "colorbar": {
              "outlinewidth": 0,
              "ticks": ""
             }
            },
            "type": "scatterpolar"
           }
          ],
          "scatterpolargl": [
           {
            "marker": {
             "colorbar": {
              "outlinewidth": 0,
              "ticks": ""
             }
            },
            "type": "scatterpolargl"
           }
          ],
          "scatterternary": [
           {
            "marker": {
             "colorbar": {
              "outlinewidth": 0,
              "ticks": ""
             }
            },
            "type": "scatterternary"
           }
          ],
          "surface": [
           {
            "colorbar": {
             "outlinewidth": 0,
             "ticks": ""
            },
            "colorscale": [
             [
              0,
              "#0d0887"
             ],
             [
              0.1111111111111111,
              "#46039f"
             ],
             [
              0.2222222222222222,
              "#7201a8"
             ],
             [
              0.3333333333333333,
              "#9c179e"
             ],
             [
              0.4444444444444444,
              "#bd3786"
             ],
             [
              0.5555555555555556,
              "#d8576b"
             ],
             [
              0.6666666666666666,
              "#ed7953"
             ],
             [
              0.7777777777777778,
              "#fb9f3a"
             ],
             [
              0.8888888888888888,
              "#fdca26"
             ],
             [
              1,
              "#f0f921"
             ]
            ],
            "type": "surface"
           }
          ],
          "table": [
           {
            "cells": {
             "fill": {
              "color": "#EBF0F8"
             },
             "line": {
              "color": "white"
             }
            },
            "header": {
             "fill": {
              "color": "#C8D4E3"
             },
             "line": {
              "color": "white"
             }
            },
            "type": "table"
           }
          ]
         },
         "layout": {
          "annotationdefaults": {
           "arrowcolor": "#2a3f5f",
           "arrowhead": 0,
           "arrowwidth": 1
          },
          "autotypenumbers": "strict",
          "coloraxis": {
           "colorbar": {
            "outlinewidth": 0,
            "ticks": ""
           }
          },
          "colorscale": {
           "diverging": [
            [
             0,
             "#8e0152"
            ],
            [
             0.1,
             "#c51b7d"
            ],
            [
             0.2,
             "#de77ae"
            ],
            [
             0.3,
             "#f1b6da"
            ],
            [
             0.4,
             "#fde0ef"
            ],
            [
             0.5,
             "#f7f7f7"
            ],
            [
             0.6,
             "#e6f5d0"
            ],
            [
             0.7,
             "#b8e186"
            ],
            [
             0.8,
             "#7fbc41"
            ],
            [
             0.9,
             "#4d9221"
            ],
            [
             1,
             "#276419"
            ]
           ],
           "sequential": [
            [
             0,
             "#0d0887"
            ],
            [
             0.1111111111111111,
             "#46039f"
            ],
            [
             0.2222222222222222,
             "#7201a8"
            ],
            [
             0.3333333333333333,
             "#9c179e"
            ],
            [
             0.4444444444444444,
             "#bd3786"
            ],
            [
             0.5555555555555556,
             "#d8576b"
            ],
            [
             0.6666666666666666,
             "#ed7953"
            ],
            [
             0.7777777777777778,
             "#fb9f3a"
            ],
            [
             0.8888888888888888,
             "#fdca26"
            ],
            [
             1,
             "#f0f921"
            ]
           ],
           "sequentialminus": [
            [
             0,
             "#0d0887"
            ],
            [
             0.1111111111111111,
             "#46039f"
            ],
            [
             0.2222222222222222,
             "#7201a8"
            ],
            [
             0.3333333333333333,
             "#9c179e"
            ],
            [
             0.4444444444444444,
             "#bd3786"
            ],
            [
             0.5555555555555556,
             "#d8576b"
            ],
            [
             0.6666666666666666,
             "#ed7953"
            ],
            [
             0.7777777777777778,
             "#fb9f3a"
            ],
            [
             0.8888888888888888,
             "#fdca26"
            ],
            [
             1,
             "#f0f921"
            ]
           ]
          },
          "colorway": [
           "#636efa",
           "#EF553B",
           "#00cc96",
           "#ab63fa",
           "#FFA15A",
           "#19d3f3",
           "#FF6692",
           "#B6E880",
           "#FF97FF",
           "#FECB52"
          ],
          "font": {
           "color": "#2a3f5f"
          },
          "geo": {
           "bgcolor": "white",
           "lakecolor": "white",
           "landcolor": "#E5ECF6",
           "showlakes": true,
           "showland": true,
           "subunitcolor": "white"
          },
          "hoverlabel": {
           "align": "left"
          },
          "hovermode": "closest",
          "mapbox": {
           "style": "light"
          },
          "paper_bgcolor": "white",
          "plot_bgcolor": "#E5ECF6",
          "polar": {
           "angularaxis": {
            "gridcolor": "white",
            "linecolor": "white",
            "ticks": ""
           },
           "bgcolor": "#E5ECF6",
           "radialaxis": {
            "gridcolor": "white",
            "linecolor": "white",
            "ticks": ""
           }
          },
          "scene": {
           "xaxis": {
            "backgroundcolor": "#E5ECF6",
            "gridcolor": "white",
            "gridwidth": 2,
            "linecolor": "white",
            "showbackground": true,
            "ticks": "",
            "zerolinecolor": "white"
           },
           "yaxis": {
            "backgroundcolor": "#E5ECF6",
            "gridcolor": "white",
            "gridwidth": 2,
            "linecolor": "white",
            "showbackground": true,
            "ticks": "",
            "zerolinecolor": "white"
           },
           "zaxis": {
            "backgroundcolor": "#E5ECF6",
            "gridcolor": "white",
            "gridwidth": 2,
            "linecolor": "white",
            "showbackground": true,
            "ticks": "",
            "zerolinecolor": "white"
           }
          },
          "shapedefaults": {
           "line": {
            "color": "#2a3f5f"
           }
          },
          "ternary": {
           "aaxis": {
            "gridcolor": "white",
            "linecolor": "white",
            "ticks": ""
           },
           "baxis": {
            "gridcolor": "white",
            "linecolor": "white",
            "ticks": ""
           },
           "bgcolor": "#E5ECF6",
           "caxis": {
            "gridcolor": "white",
            "linecolor": "white",
            "ticks": ""
           }
          },
          "title": {
           "x": 0.05
          },
          "xaxis": {
           "automargin": true,
           "gridcolor": "white",
           "linecolor": "white",
           "ticks": "",
           "title": {
            "standoff": 15
           },
           "zerolinecolor": "white",
           "zerolinewidth": 2
          },
          "yaxis": {
           "automargin": true,
           "gridcolor": "white",
           "linecolor": "white",
           "ticks": "",
           "title": {
            "standoff": 15
           },
           "zerolinecolor": "white",
           "zerolinewidth": 2
          }
         }
        },
        "title": {
         "text": "x0 vs Y (with model prediction)"
        },
        "xaxis": {
         "title": {
          "text": "X1"
         }
        },
        "yaxis": {
         "title": {
          "text": "Y"
         }
        }
       }
      }
     },
     "metadata": {},
     "output_type": "display_data"
    },
    {
     "data": {
      "application/vnd.plotly.v1+json": {
       "config": {
        "plotlyServerURL": "https://plot.ly"
       },
       "data": [
        {
         "mode": "markers",
         "name": "Data Points",
         "type": "scatter",
         "x": {
          "bdata": "AAAAAAAADEAAAAAAAAAIQJqZmZmZmQlAzczMzMzMCEDNzMzMzMwMQDMzMzMzMw9AMzMzMzMzC0AzMzMzMzMLQDMzMzMzMwdAzczMzMzMCECamZmZmZkNQDMzMzMzMwtAAAAAAAAACEAAAAAAAAAIQAAAAAAAABBAmpmZmZmZEUAzMzMzMzMPQAAAAAAAAAxAZmZmZmZmDkBmZmZmZmYOQDMzMzMzMwtAmpmZmZmZDUDNzMzMzMwMQGZmZmZmZgpAMzMzMzMzC0AAAAAAAAAIQDMzMzMzMwtAAAAAAAAADEAzMzMzMzMLQJqZmZmZmQlAzczMzMzMCEAzMzMzMzMLQGZmZmZmZhBAzczMzMzMEEDNzMzMzMwIQJqZmZmZmQlAAAAAAAAADEDNzMzMzMwMQAAAAAAAAAhAMzMzMzMzC0AAAAAAAAAMQGZmZmZmZgJAmpmZmZmZCUAAAAAAAAAMQGZmZmZmZg5AAAAAAAAACEBmZmZmZmYOQJqZmZmZmQlAmpmZmZmZDUBmZmZmZmYKQJqZmZmZmQlAmpmZmZmZCUDNzMzMzMwIQGZmZmZmZgJAZmZmZmZmBkBmZmZmZmYGQGZmZmZmZgpAMzMzMzMzA0AzMzMzMzMHQJqZmZmZmQVAAAAAAAAAAEAAAAAAAAAIQJqZmZmZmQFAMzMzMzMzB0AzMzMzMzMHQM3MzMzMzAhAAAAAAAAACECamZmZmZkFQJqZmZmZmQFAAAAAAAAABECamZmZmZkJQGZmZmZmZgZAAAAAAAAABEBmZmZmZmYGQDMzMzMzMwdAAAAAAAAACEBmZmZmZmYGQAAAAAAAAAhAMzMzMzMzB0DNzMzMzMwEQDMzMzMzMwNAMzMzMzMzA0CamZmZmZkFQJqZmZmZmQVAAAAAAAAACEAzMzMzMzMLQM3MzMzMzAhAZmZmZmZmAkAAAAAAAAAIQAAAAAAAAARAzczMzMzMBEAAAAAAAAAIQM3MzMzMzARAZmZmZmZmAkCamZmZmZkFQAAAAAAAAAhAMzMzMzMzB0AzMzMzMzMHQAAAAAAAAARAZmZmZmZmBkBmZmZmZmYKQJqZmZmZmQVAAAAAAAAACEAzMzMzMzMHQAAAAAAAAAhAAAAAAAAACEAAAAAAAAAEQDMzMzMzMwdAAAAAAAAABEDNzMzMzMwMQJqZmZmZmQlAmpmZmZmZBUAAAAAAAAAIQAAAAAAAAARAZmZmZmZmBkCamZmZmZkJQAAAAAAAAAhAZmZmZmZmDkDNzMzMzMwEQJqZmZmZmQFAmpmZmZmZCUBmZmZmZmYGQGZmZmZmZgZAmpmZmZmZBUBmZmZmZmYKQJqZmZmZmQlAZmZmZmZmBkAAAAAAAAAIQGZmZmZmZgZAAAAAAAAACEBmZmZmZmYGQGZmZmZmZg5AZmZmZmZmBkBmZmZmZmYGQM3MzMzMzARAAAAAAAAACEAzMzMzMzMLQM3MzMzMzAhAAAAAAAAACEDNzMzMzMwIQM3MzMzMzAhAzczMzMzMCECamZmZmZkFQJqZmZmZmQlAZmZmZmZmCkAAAAAAAAAIQAAAAAAAAARAAAAAAAAACEAzMzMzMzMLQAAAAAAAAAhA",
          "dtype": "f8"
         },
         "y": {
          "bdata": "AAAAAAAAAAAAAAAAAAAAAAAAAAAAAAAAAAAAAAAAAAAAAAAAAAAAAAAAAAAAAAAAAAABAQEBAQEBAQEBAQEBAQEBAQEBAQEBAQEBAQEBAQEBAQEBAQEBAQEBAQEBAQEBAQEBAQICAgICAgICAgICAgICAgICAgICAgICAgICAgICAgICAgICAgICAgICAgICAgICAgIC",
          "dtype": "i1"
         }
        },
        {
         "marker": {
          "color": "red"
         },
         "mode": "markers",
         "name": "Model Prediction",
         "type": "scatter",
         "x": {
          "bdata": "AAAAAAAADEAAAAAAAAAIQJqZmZmZmQlAzczMzMzMCEDNzMzMzMwMQDMzMzMzMw9AMzMzMzMzC0AzMzMzMzMLQDMzMzMzMwdAzczMzMzMCECamZmZmZkNQDMzMzMzMwtAAAAAAAAACEAAAAAAAAAIQAAAAAAAABBAmpmZmZmZEUAzMzMzMzMPQAAAAAAAAAxAZmZmZmZmDkBmZmZmZmYOQDMzMzMzMwtAmpmZmZmZDUDNzMzMzMwMQGZmZmZmZgpAMzMzMzMzC0AAAAAAAAAIQDMzMzMzMwtAAAAAAAAADEAzMzMzMzMLQJqZmZmZmQlAzczMzMzMCEAzMzMzMzMLQGZmZmZmZhBAzczMzMzMEEDNzMzMzMwIQJqZmZmZmQlAAAAAAAAADEDNzMzMzMwMQAAAAAAAAAhAMzMzMzMzC0AAAAAAAAAMQGZmZmZmZgJAmpmZmZmZCUAAAAAAAAAMQGZmZmZmZg5AAAAAAAAACEBmZmZmZmYOQJqZmZmZmQlAmpmZmZmZDUBmZmZmZmYKQJqZmZmZmQlAmpmZmZmZCUDNzMzMzMwIQGZmZmZmZgJAZmZmZmZmBkBmZmZmZmYGQGZmZmZmZgpAMzMzMzMzA0AzMzMzMzMHQJqZmZmZmQVAAAAAAAAAAEAAAAAAAAAIQJqZmZmZmQFAMzMzMzMzB0AzMzMzMzMHQM3MzMzMzAhAAAAAAAAACECamZmZmZkFQJqZmZmZmQFAAAAAAAAABECamZmZmZkJQGZmZmZmZgZAAAAAAAAABEBmZmZmZmYGQDMzMzMzMwdAAAAAAAAACEBmZmZmZmYGQAAAAAAAAAhAMzMzMzMzB0DNzMzMzMwEQDMzMzMzMwNAMzMzMzMzA0CamZmZmZkFQJqZmZmZmQVAAAAAAAAACEAzMzMzMzMLQM3MzMzMzAhAZmZmZmZmAkAAAAAAAAAIQAAAAAAAAARAzczMzMzMBEAAAAAAAAAIQM3MzMzMzARAZmZmZmZmAkCamZmZmZkFQAAAAAAAAAhAMzMzMzMzB0AzMzMzMzMHQAAAAAAAAARAZmZmZmZmBkBmZmZmZmYKQJqZmZmZmQVAAAAAAAAACEAzMzMzMzMHQAAAAAAAAAhAAAAAAAAACEAAAAAAAAAEQDMzMzMzMwdAAAAAAAAABEDNzMzMzMwMQJqZmZmZmQlAmpmZmZmZBUAAAAAAAAAIQAAAAAAAAARAZmZmZmZmBkCamZmZmZkJQAAAAAAAAAhAZmZmZmZmDkDNzMzMzMwEQJqZmZmZmQFAmpmZmZmZCUBmZmZmZmYGQGZmZmZmZgZAmpmZmZmZBUBmZmZmZmYKQJqZmZmZmQlAZmZmZmZmBkAAAAAAAAAIQGZmZmZmZgZAAAAAAAAACEBmZmZmZmYGQGZmZmZmZg5AZmZmZmZmBkBmZmZmZmYGQM3MzMzMzARAAAAAAAAACEAzMzMzMzMLQM3MzMzMzAhAAAAAAAAACEDNzMzMzMwIQM3MzMzMzAhAzczMzMzMCECamZmZmZkFQJqZmZmZmQlAZmZmZmZmCkAAAAAAAAAIQAAAAAAAAARAAAAAAAAACEAzMzMzMzMLQAAAAAAAAAhA",
          "dtype": "f8"
         },
         "y": {
          "bdata": "3MxVePQhtb8gn8tDt4ukv7jZBxO65ai/cEYuoKswiT/qj2zSO0uzv8TrQZ5R2K0/5Ltq2N6goz8EXXlc6camv7j+mLfzTpQ/7viTe94Ktb/MJX/Q/uy5vwBx1uLg4Ug/HAlcGEQBt7/OZEHbrT26v4CxiYbwAs2/MDDymHAEpb+MzkL9Q/ugvxDFWo6kJJa/mE0y0EF8oL8ASSjKqBWGvxgQ/oA1SKa/EG+z54C5qz/uZAsnez+/v/ZKfAiNosY/xHIX3BvBsT8AMNiUkeV2v/4fsq6UqLk/oBcuo+Qksr/eCT8erfi2vxBkN0PscZQ/UOAkVxMuij8kATwELbGgP8aIFaXW8sO/MmwLvhPjw79IdVObTMiVv0wqz1d45bq/JvZ0Uvk4w7+/ZHEkUgPAv4DKn97/1Xy/BCELGa+BrL8YzXzxcQyhv0jAKQOwHLI/IDZKdaPVjr8QWeiPwOnLP9Q3noTwH8I/MFxEIqVgoD/YGid1GwKpv2CcU7472I2/xEM28psPt7/AoE0pPTewv3iSvUxgPfM/DMb2vqOO9D+MH+IpfDD1P05/CtmN9/I/oiphSh8A9T/ArrYjEB70P39eD1XqYPY/xIT19N/77D++vl4Oxc7yP7AotV5L2/M/3WA4YiWa7j/yZNRpsnv0P527a+5GbO4/kIBY1CcL9T927SUpm/DwP8waTPhXvvI/sisndSoe9j/gPzCZwzrvP3ap+316jvU/pA9LziFY8D85fvZFbnn5P/ZGEZRzkvE/NlJhEgGm9j9tl0YNeSjzP6K+guh7EfI/PqO2yZj88j9wodVhXjj0PwYjAL9T7fc/ge0aYTx39T9L33A1b1PrP6COfnS7OPA/5Cb3Jw/D7T968MHgLNXwP5gMvWCJw/g/9Efw0NZ59j+m+8jksx72P+QoPS/a0PQ/HDTCFnn/8j9sIrNddLTyP6yK/pG41vI/dMQI5l1D8z/KfJsFFp30P0D0fq8+Q/E/JV044AjB7D/UGnxzW0PzPwasuaW46vE/EZiL/q/08j/j2ktEKG3yP1oCpV3g5Os/7YjadnOn8j95LEPzLPQBQAT+adzbC/w/hgaNYQ5n/j9PgK7SjuD7P8ahfn/8CgBACcFL1bgIAECe1ZxSNKT5Pzo1QjbDpfw/+kOi/y4m/D8nOhHFHDwBQEYp2B54cvs/K7x8HyW0+z8Ti14+9Hn9Pw1pb9ts9vw/Kt6vYZhtAEB9nw7DQkj/P0hgKKjQFvs/TQ6DIL1bAECD7oN7qpgBQP7017Fqvvc/rf5zirDZ/z/H/orzW5X8P04AqjmLaP8/wTI569Fx+T8sPR/Y2DH+Pwq47/djifs/Gr1gSpYx+T8QYHBcPpz5P6zBM2jJr/4/Trb1fdH7+D86gMEKlsb8P4gAAPm+T/0/ZrN/HVap/z8rdj1+DzD3P5zE2UNIh/g/DtSbhzgBAECKI2zw4rMAQBj0hjI8NPs/uuQdX21s+T8u+bxBDN78P8L+64nWcABAQcCvKjC4/T8E/mnc2wv8P9xPY4dqYQBACYKn1gUMAUBK4DVV7oH+P5AiyBLb6fo/XicbkfTw+z+S0AIDweD/PzmPpw45s/o/",
          "dtype": "f8"
         }
        }
       ],
       "layout": {
        "template": {
         "data": {
          "bar": [
           {
            "error_x": {
             "color": "#2a3f5f"
            },
            "error_y": {
             "color": "#2a3f5f"
            },
            "marker": {
             "line": {
              "color": "#E5ECF6",
              "width": 0.5
             },
             "pattern": {
              "fillmode": "overlay",
              "size": 10,
              "solidity": 0.2
             }
            },
            "type": "bar"
           }
          ],
          "barpolar": [
           {
            "marker": {
             "line": {
              "color": "#E5ECF6",
              "width": 0.5
             },
             "pattern": {
              "fillmode": "overlay",
              "size": 10,
              "solidity": 0.2
             }
            },
            "type": "barpolar"
           }
          ],
          "carpet": [
           {
            "aaxis": {
             "endlinecolor": "#2a3f5f",
             "gridcolor": "white",
             "linecolor": "white",
             "minorgridcolor": "white",
             "startlinecolor": "#2a3f5f"
            },
            "baxis": {
             "endlinecolor": "#2a3f5f",
             "gridcolor": "white",
             "linecolor": "white",
             "minorgridcolor": "white",
             "startlinecolor": "#2a3f5f"
            },
            "type": "carpet"
           }
          ],
          "choropleth": [
           {
            "colorbar": {
             "outlinewidth": 0,
             "ticks": ""
            },
            "type": "choropleth"
           }
          ],
          "contour": [
           {
            "colorbar": {
             "outlinewidth": 0,
             "ticks": ""
            },
            "colorscale": [
             [
              0,
              "#0d0887"
             ],
             [
              0.1111111111111111,
              "#46039f"
             ],
             [
              0.2222222222222222,
              "#7201a8"
             ],
             [
              0.3333333333333333,
              "#9c179e"
             ],
             [
              0.4444444444444444,
              "#bd3786"
             ],
             [
              0.5555555555555556,
              "#d8576b"
             ],
             [
              0.6666666666666666,
              "#ed7953"
             ],
             [
              0.7777777777777778,
              "#fb9f3a"
             ],
             [
              0.8888888888888888,
              "#fdca26"
             ],
             [
              1,
              "#f0f921"
             ]
            ],
            "type": "contour"
           }
          ],
          "contourcarpet": [
           {
            "colorbar": {
             "outlinewidth": 0,
             "ticks": ""
            },
            "type": "contourcarpet"
           }
          ],
          "heatmap": [
           {
            "colorbar": {
             "outlinewidth": 0,
             "ticks": ""
            },
            "colorscale": [
             [
              0,
              "#0d0887"
             ],
             [
              0.1111111111111111,
              "#46039f"
             ],
             [
              0.2222222222222222,
              "#7201a8"
             ],
             [
              0.3333333333333333,
              "#9c179e"
             ],
             [
              0.4444444444444444,
              "#bd3786"
             ],
             [
              0.5555555555555556,
              "#d8576b"
             ],
             [
              0.6666666666666666,
              "#ed7953"
             ],
             [
              0.7777777777777778,
              "#fb9f3a"
             ],
             [
              0.8888888888888888,
              "#fdca26"
             ],
             [
              1,
              "#f0f921"
             ]
            ],
            "type": "heatmap"
           }
          ],
          "histogram": [
           {
            "marker": {
             "pattern": {
              "fillmode": "overlay",
              "size": 10,
              "solidity": 0.2
             }
            },
            "type": "histogram"
           }
          ],
          "histogram2d": [
           {
            "colorbar": {
             "outlinewidth": 0,
             "ticks": ""
            },
            "colorscale": [
             [
              0,
              "#0d0887"
             ],
             [
              0.1111111111111111,
              "#46039f"
             ],
             [
              0.2222222222222222,
              "#7201a8"
             ],
             [
              0.3333333333333333,
              "#9c179e"
             ],
             [
              0.4444444444444444,
              "#bd3786"
             ],
             [
              0.5555555555555556,
              "#d8576b"
             ],
             [
              0.6666666666666666,
              "#ed7953"
             ],
             [
              0.7777777777777778,
              "#fb9f3a"
             ],
             [
              0.8888888888888888,
              "#fdca26"
             ],
             [
              1,
              "#f0f921"
             ]
            ],
            "type": "histogram2d"
           }
          ],
          "histogram2dcontour": [
           {
            "colorbar": {
             "outlinewidth": 0,
             "ticks": ""
            },
            "colorscale": [
             [
              0,
              "#0d0887"
             ],
             [
              0.1111111111111111,
              "#46039f"
             ],
             [
              0.2222222222222222,
              "#7201a8"
             ],
             [
              0.3333333333333333,
              "#9c179e"
             ],
             [
              0.4444444444444444,
              "#bd3786"
             ],
             [
              0.5555555555555556,
              "#d8576b"
             ],
             [
              0.6666666666666666,
              "#ed7953"
             ],
             [
              0.7777777777777778,
              "#fb9f3a"
             ],
             [
              0.8888888888888888,
              "#fdca26"
             ],
             [
              1,
              "#f0f921"
             ]
            ],
            "type": "histogram2dcontour"
           }
          ],
          "mesh3d": [
           {
            "colorbar": {
             "outlinewidth": 0,
             "ticks": ""
            },
            "type": "mesh3d"
           }
          ],
          "parcoords": [
           {
            "line": {
             "colorbar": {
              "outlinewidth": 0,
              "ticks": ""
             }
            },
            "type": "parcoords"
           }
          ],
          "pie": [
           {
            "automargin": true,
            "type": "pie"
           }
          ],
          "scatter": [
           {
            "fillpattern": {
             "fillmode": "overlay",
             "size": 10,
             "solidity": 0.2
            },
            "type": "scatter"
           }
          ],
          "scatter3d": [
           {
            "line": {
             "colorbar": {
              "outlinewidth": 0,
              "ticks": ""
             }
            },
            "marker": {
             "colorbar": {
              "outlinewidth": 0,
              "ticks": ""
             }
            },
            "type": "scatter3d"
           }
          ],
          "scattercarpet": [
           {
            "marker": {
             "colorbar": {
              "outlinewidth": 0,
              "ticks": ""
             }
            },
            "type": "scattercarpet"
           }
          ],
          "scattergeo": [
           {
            "marker": {
             "colorbar": {
              "outlinewidth": 0,
              "ticks": ""
             }
            },
            "type": "scattergeo"
           }
          ],
          "scattergl": [
           {
            "marker": {
             "colorbar": {
              "outlinewidth": 0,
              "ticks": ""
             }
            },
            "type": "scattergl"
           }
          ],
          "scattermap": [
           {
            "marker": {
             "colorbar": {
              "outlinewidth": 0,
              "ticks": ""
             }
            },
            "type": "scattermap"
           }
          ],
          "scattermapbox": [
           {
            "marker": {
             "colorbar": {
              "outlinewidth": 0,
              "ticks": ""
             }
            },
            "type": "scattermapbox"
           }
          ],
          "scatterpolar": [
           {
            "marker": {
             "colorbar": {
              "outlinewidth": 0,
              "ticks": ""
             }
            },
            "type": "scatterpolar"
           }
          ],
          "scatterpolargl": [
           {
            "marker": {
             "colorbar": {
              "outlinewidth": 0,
              "ticks": ""
             }
            },
            "type": "scatterpolargl"
           }
          ],
          "scatterternary": [
           {
            "marker": {
             "colorbar": {
              "outlinewidth": 0,
              "ticks": ""
             }
            },
            "type": "scatterternary"
           }
          ],
          "surface": [
           {
            "colorbar": {
             "outlinewidth": 0,
             "ticks": ""
            },
            "colorscale": [
             [
              0,
              "#0d0887"
             ],
             [
              0.1111111111111111,
              "#46039f"
             ],
             [
              0.2222222222222222,
              "#7201a8"
             ],
             [
              0.3333333333333333,
              "#9c179e"
             ],
             [
              0.4444444444444444,
              "#bd3786"
             ],
             [
              0.5555555555555556,
              "#d8576b"
             ],
             [
              0.6666666666666666,
              "#ed7953"
             ],
             [
              0.7777777777777778,
              "#fb9f3a"
             ],
             [
              0.8888888888888888,
              "#fdca26"
             ],
             [
              1,
              "#f0f921"
             ]
            ],
            "type": "surface"
           }
          ],
          "table": [
           {
            "cells": {
             "fill": {
              "color": "#EBF0F8"
             },
             "line": {
              "color": "white"
             }
            },
            "header": {
             "fill": {
              "color": "#C8D4E3"
             },
             "line": {
              "color": "white"
             }
            },
            "type": "table"
           }
          ]
         },
         "layout": {
          "annotationdefaults": {
           "arrowcolor": "#2a3f5f",
           "arrowhead": 0,
           "arrowwidth": 1
          },
          "autotypenumbers": "strict",
          "coloraxis": {
           "colorbar": {
            "outlinewidth": 0,
            "ticks": ""
           }
          },
          "colorscale": {
           "diverging": [
            [
             0,
             "#8e0152"
            ],
            [
             0.1,
             "#c51b7d"
            ],
            [
             0.2,
             "#de77ae"
            ],
            [
             0.3,
             "#f1b6da"
            ],
            [
             0.4,
             "#fde0ef"
            ],
            [
             0.5,
             "#f7f7f7"
            ],
            [
             0.6,
             "#e6f5d0"
            ],
            [
             0.7,
             "#b8e186"
            ],
            [
             0.8,
             "#7fbc41"
            ],
            [
             0.9,
             "#4d9221"
            ],
            [
             1,
             "#276419"
            ]
           ],
           "sequential": [
            [
             0,
             "#0d0887"
            ],
            [
             0.1111111111111111,
             "#46039f"
            ],
            [
             0.2222222222222222,
             "#7201a8"
            ],
            [
             0.3333333333333333,
             "#9c179e"
            ],
            [
             0.4444444444444444,
             "#bd3786"
            ],
            [
             0.5555555555555556,
             "#d8576b"
            ],
            [
             0.6666666666666666,
             "#ed7953"
            ],
            [
             0.7777777777777778,
             "#fb9f3a"
            ],
            [
             0.8888888888888888,
             "#fdca26"
            ],
            [
             1,
             "#f0f921"
            ]
           ],
           "sequentialminus": [
            [
             0,
             "#0d0887"
            ],
            [
             0.1111111111111111,
             "#46039f"
            ],
            [
             0.2222222222222222,
             "#7201a8"
            ],
            [
             0.3333333333333333,
             "#9c179e"
            ],
            [
             0.4444444444444444,
             "#bd3786"
            ],
            [
             0.5555555555555556,
             "#d8576b"
            ],
            [
             0.6666666666666666,
             "#ed7953"
            ],
            [
             0.7777777777777778,
             "#fb9f3a"
            ],
            [
             0.8888888888888888,
             "#fdca26"
            ],
            [
             1,
             "#f0f921"
            ]
           ]
          },
          "colorway": [
           "#636efa",
           "#EF553B",
           "#00cc96",
           "#ab63fa",
           "#FFA15A",
           "#19d3f3",
           "#FF6692",
           "#B6E880",
           "#FF97FF",
           "#FECB52"
          ],
          "font": {
           "color": "#2a3f5f"
          },
          "geo": {
           "bgcolor": "white",
           "lakecolor": "white",
           "landcolor": "#E5ECF6",
           "showlakes": true,
           "showland": true,
           "subunitcolor": "white"
          },
          "hoverlabel": {
           "align": "left"
          },
          "hovermode": "closest",
          "mapbox": {
           "style": "light"
          },
          "paper_bgcolor": "white",
          "plot_bgcolor": "#E5ECF6",
          "polar": {
           "angularaxis": {
            "gridcolor": "white",
            "linecolor": "white",
            "ticks": ""
           },
           "bgcolor": "#E5ECF6",
           "radialaxis": {
            "gridcolor": "white",
            "linecolor": "white",
            "ticks": ""
           }
          },
          "scene": {
           "xaxis": {
            "backgroundcolor": "#E5ECF6",
            "gridcolor": "white",
            "gridwidth": 2,
            "linecolor": "white",
            "showbackground": true,
            "ticks": "",
            "zerolinecolor": "white"
           },
           "yaxis": {
            "backgroundcolor": "#E5ECF6",
            "gridcolor": "white",
            "gridwidth": 2,
            "linecolor": "white",
            "showbackground": true,
            "ticks": "",
            "zerolinecolor": "white"
           },
           "zaxis": {
            "backgroundcolor": "#E5ECF6",
            "gridcolor": "white",
            "gridwidth": 2,
            "linecolor": "white",
            "showbackground": true,
            "ticks": "",
            "zerolinecolor": "white"
           }
          },
          "shapedefaults": {
           "line": {
            "color": "#2a3f5f"
           }
          },
          "ternary": {
           "aaxis": {
            "gridcolor": "white",
            "linecolor": "white",
            "ticks": ""
           },
           "baxis": {
            "gridcolor": "white",
            "linecolor": "white",
            "ticks": ""
           },
           "bgcolor": "#E5ECF6",
           "caxis": {
            "gridcolor": "white",
            "linecolor": "white",
            "ticks": ""
           }
          },
          "title": {
           "x": 0.05
          },
          "xaxis": {
           "automargin": true,
           "gridcolor": "white",
           "linecolor": "white",
           "ticks": "",
           "title": {
            "standoff": 15
           },
           "zerolinecolor": "white",
           "zerolinewidth": 2
          },
          "yaxis": {
           "automargin": true,
           "gridcolor": "white",
           "linecolor": "white",
           "ticks": "",
           "title": {
            "standoff": 15
           },
           "zerolinecolor": "white",
           "zerolinewidth": 2
          }
         }
        },
        "title": {
         "text": "x1 vs Y (with model prediction)"
        },
        "xaxis": {
         "title": {
          "text": "X2"
         }
        },
        "yaxis": {
         "title": {
          "text": "Y"
         }
        }
       }
      }
     },
     "metadata": {},
     "output_type": "display_data"
    },
    {
     "data": {
      "application/vnd.plotly.v1+json": {
       "config": {
        "plotlyServerURL": "https://plot.ly"
       },
       "data": [
        {
         "mode": "markers",
         "name": "Data Points",
         "type": "scatter",
         "x": {
          "bdata": "ZmZmZmZm9j9mZmZmZmb2P83MzMzMzPQ/AAAAAAAA+D9mZmZmZmb2PzMzMzMzM/s/ZmZmZmZm9j8AAAAAAAD4P2ZmZmZmZvY/AAAAAAAA+D8AAAAAAAD4P5qZmZmZmfk/ZmZmZmZm9j+amZmZmZnxPzMzMzMzM/M/AAAAAAAA+D/NzMzMzMz0P2ZmZmZmZvY/MzMzMzMz+z8AAAAAAAD4PzMzMzMzM/s/AAAAAAAA+D8AAAAAAADwPzMzMzMzM/s/ZmZmZmZm/j+amZmZmZn5P5qZmZmZmfk/AAAAAAAA+D9mZmZmZmb2P5qZmZmZmfk/mpmZmZmZ+T8AAAAAAAD4PwAAAAAAAPg/ZmZmZmZm9j8AAAAAAAD4PzMzMzMzM/M/zczMzMzM9D9mZmZmZmb2P83MzMzMzPQ/AAAAAAAA+D/NzMzMzMz0P83MzMzMzPQ/zczMzMzM9D+amZmZmZn5P2ZmZmZmZv4/ZmZmZmZm9j+amZmZmZn5P2ZmZmZmZvY/AAAAAAAA+D9mZmZmZmb2P83MzMzMzBJAAAAAAAAAEkCamZmZmZkTQAAAAAAAABBAZmZmZmZmEkAAAAAAAAASQM3MzMzMzBJAZmZmZmZmCkBmZmZmZmYSQDMzMzMzMw9AAAAAAAAADEDNzMzMzMwQQAAAAAAAABBAzczMzMzMEkDNzMzMzMwMQJqZmZmZmRFAAAAAAAAAEkBmZmZmZmYQQAAAAAAAABJAMzMzMzMzD0AzMzMzMzMTQAAAAAAAABBAmpmZmZmZE0DNzMzMzMwSQDMzMzMzMxFAmpmZmZmZEUAzMzMzMzMTQAAAAAAAABRAAAAAAAAAEkAAAAAAAAAMQGZmZmZmZg5AmpmZmZmZDUAzMzMzMzMPQGZmZmZmZhRAAAAAAAAAEkAAAAAAAAASQM3MzMzMzBJAmpmZmZmZEUBmZmZmZmYQQAAAAAAAABBAmpmZmZmZEUBmZmZmZmYSQAAAAAAAABBAZmZmZmZmCkDNzMzMzMwQQM3MzMzMzBBAzczMzMzMEEAzMzMzMzMRQAAAAAAAAAhAZmZmZmZmEEAAAAAAAAAYQGZmZmZmZhRAmpmZmZmZF0BmZmZmZmYWQDMzMzMzMxdAZmZmZmZmGkAAAAAAAAASQDMzMzMzMxlAMzMzMzMzF0BmZmZmZmYYQGZmZmZmZhRAMzMzMzMzFUAAAAAAAAAWQAAAAAAAABRAZmZmZmZmFEAzMzMzMzMVQAAAAAAAABZAzczMzMzMGkCamZmZmZkbQAAAAAAAABRAzczMzMzMFkCamZmZmZkTQM3MzMzMzBpAmpmZmZmZE0DNzMzMzMwWQAAAAAAAABhAMzMzMzMzE0CamZmZmZkTQGZmZmZmZhZAMzMzMzMzF0BmZmZmZmYYQJqZmZmZmRlAZmZmZmZmFkBmZmZmZmYUQGZmZmZmZhZAZmZmZmZmGEBmZmZmZmYWQAAAAAAAABZAMzMzMzMzE0CamZmZmZkVQGZmZmZmZhZAZmZmZmZmFEBmZmZmZmYUQJqZmZmZmRdAzczMzMzMFkDNzMzMzMwUQAAAAAAAABRAzczMzMzMFECamZmZmZkVQGZmZmZmZhRA",
          "dtype": "f8"
         },
         "y": {
          "bdata": "AAAAAAAAAAAAAAAAAAAAAAAAAAAAAAAAAAAAAAAAAAAAAAAAAAAAAAAAAAAAAAAAAAABAQEBAQEBAQEBAQEBAQEBAQEBAQEBAQEBAQEBAQEBAQEBAQEBAQEBAQEBAQEBAQEBAQICAgICAgICAgICAgICAgICAgICAgICAgICAgICAgICAgICAgICAgICAgICAgICAgIC",
          "dtype": "i1"
         }
        },
        {
         "marker": {
          "color": "red"
         },
         "mode": "markers",
         "name": "Model Prediction",
         "type": "scatter",
         "x": {
          "bdata": "ZmZmZmZm9j9mZmZmZmb2P83MzMzMzPQ/AAAAAAAA+D9mZmZmZmb2PzMzMzMzM/s/ZmZmZmZm9j8AAAAAAAD4P2ZmZmZmZvY/AAAAAAAA+D8AAAAAAAD4P5qZmZmZmfk/ZmZmZmZm9j+amZmZmZnxPzMzMzMzM/M/AAAAAAAA+D/NzMzMzMz0P2ZmZmZmZvY/MzMzMzMz+z8AAAAAAAD4PzMzMzMzM/s/AAAAAAAA+D8AAAAAAADwPzMzMzMzM/s/ZmZmZmZm/j+amZmZmZn5P5qZmZmZmfk/AAAAAAAA+D9mZmZmZmb2P5qZmZmZmfk/mpmZmZmZ+T8AAAAAAAD4PwAAAAAAAPg/ZmZmZmZm9j8AAAAAAAD4PzMzMzMzM/M/zczMzMzM9D9mZmZmZmb2P83MzMzMzPQ/AAAAAAAA+D/NzMzMzMz0P83MzMzMzPQ/zczMzMzM9D+amZmZmZn5P2ZmZmZmZv4/ZmZmZmZm9j+amZmZmZn5P2ZmZmZmZvY/AAAAAAAA+D9mZmZmZmb2P83MzMzMzBJAAAAAAAAAEkCamZmZmZkTQAAAAAAAABBAZmZmZmZmEkAAAAAAAAASQM3MzMzMzBJAZmZmZmZmCkBmZmZmZmYSQDMzMzMzMw9AAAAAAAAADEDNzMzMzMwQQAAAAAAAABBAzczMzMzMEkDNzMzMzMwMQJqZmZmZmRFAAAAAAAAAEkBmZmZmZmYQQAAAAAAAABJAMzMzMzMzD0AzMzMzMzMTQAAAAAAAABBAmpmZmZmZE0DNzMzMzMwSQDMzMzMzMxFAmpmZmZmZEUAzMzMzMzMTQAAAAAAAABRAAAAAAAAAEkAAAAAAAAAMQGZmZmZmZg5AmpmZmZmZDUAzMzMzMzMPQGZmZmZmZhRAAAAAAAAAEkAAAAAAAAASQM3MzMzMzBJAmpmZmZmZEUBmZmZmZmYQQAAAAAAAABBAmpmZmZmZEUBmZmZmZmYSQAAAAAAAABBAZmZmZmZmCkDNzMzMzMwQQM3MzMzMzBBAzczMzMzMEEAzMzMzMzMRQAAAAAAAAAhAZmZmZmZmEEAAAAAAAAAYQGZmZmZmZhRAmpmZmZmZF0BmZmZmZmYWQDMzMzMzMxdAZmZmZmZmGkAAAAAAAAASQDMzMzMzMxlAMzMzMzMzF0BmZmZmZmYYQGZmZmZmZhRAMzMzMzMzFUAAAAAAAAAWQAAAAAAAABRAZmZmZmZmFEAzMzMzMzMVQAAAAAAAABZAzczMzMzMGkCamZmZmZkbQAAAAAAAABRAzczMzMzMFkCamZmZmZkTQM3MzMzMzBpAmpmZmZmZE0DNzMzMzMwWQAAAAAAAABhAMzMzMzMzE0CamZmZmZkTQGZmZmZmZhZAMzMzMzMzF0BmZmZmZmYYQJqZmZmZmRlAZmZmZmZmFkBmZmZmZmYUQGZmZmZmZhZAZmZmZmZmGEBmZmZmZmYWQAAAAAAAABZAMzMzMzMzE0CamZmZmZkVQGZmZmZmZhZAZmZmZmZmFEBmZmZmZmYUQJqZmZmZmRdAzczMzMzMFkDNzMzMzMwUQAAAAAAAABRAzczMzMzMFECamZmZmZkVQGZmZmZmZhRA",
          "dtype": "f8"
         },
         "y": {
          "bdata": "3MxVePQhtb8gn8tDt4ukv7jZBxO65ai/cEYuoKswiT/qj2zSO0uzv8TrQZ5R2K0/5Ltq2N6goz8EXXlc6camv7j+mLfzTpQ/7viTe94Ktb/MJX/Q/uy5vwBx1uLg4Ug/HAlcGEQBt7/OZEHbrT26v4CxiYbwAs2/MDDymHAEpb+MzkL9Q/ugvxDFWo6kJJa/mE0y0EF8oL8ASSjKqBWGvxgQ/oA1SKa/EG+z54C5qz/uZAsnez+/v/ZKfAiNosY/xHIX3BvBsT8AMNiUkeV2v/4fsq6UqLk/oBcuo+Qksr/eCT8erfi2vxBkN0PscZQ/UOAkVxMuij8kATwELbGgP8aIFaXW8sO/MmwLvhPjw79IdVObTMiVv0wqz1d45bq/JvZ0Uvk4w7+/ZHEkUgPAv4DKn97/1Xy/BCELGa+BrL8YzXzxcQyhv0jAKQOwHLI/IDZKdaPVjr8QWeiPwOnLP9Q3noTwH8I/MFxEIqVgoD/YGid1GwKpv2CcU7472I2/xEM28psPt7/AoE0pPTewv3iSvUxgPfM/DMb2vqOO9D+MH+IpfDD1P05/CtmN9/I/oiphSh8A9T/ArrYjEB70P39eD1XqYPY/xIT19N/77D++vl4Oxc7yP7AotV5L2/M/3WA4YiWa7j/yZNRpsnv0P527a+5GbO4/kIBY1CcL9T927SUpm/DwP8waTPhXvvI/sisndSoe9j/gPzCZwzrvP3ap+316jvU/pA9LziFY8D85fvZFbnn5P/ZGEZRzkvE/NlJhEgGm9j9tl0YNeSjzP6K+guh7EfI/PqO2yZj88j9wodVhXjj0PwYjAL9T7fc/ge0aYTx39T9L33A1b1PrP6COfnS7OPA/5Cb3Jw/D7T968MHgLNXwP5gMvWCJw/g/9Efw0NZ59j+m+8jksx72P+QoPS/a0PQ/HDTCFnn/8j9sIrNddLTyP6yK/pG41vI/dMQI5l1D8z/KfJsFFp30P0D0fq8+Q/E/JV044AjB7D/UGnxzW0PzPwasuaW46vE/EZiL/q/08j/j2ktEKG3yP1oCpV3g5Os/7YjadnOn8j95LEPzLPQBQAT+adzbC/w/hgaNYQ5n/j9PgK7SjuD7P8ahfn/8CgBACcFL1bgIAECe1ZxSNKT5Pzo1QjbDpfw/+kOi/y4m/D8nOhHFHDwBQEYp2B54cvs/K7x8HyW0+z8Ti14+9Hn9Pw1pb9ts9vw/Kt6vYZhtAEB9nw7DQkj/P0hgKKjQFvs/TQ6DIL1bAECD7oN7qpgBQP7017Fqvvc/rf5zirDZ/z/H/orzW5X8P04AqjmLaP8/wTI569Fx+T8sPR/Y2DH+Pwq47/djifs/Gr1gSpYx+T8QYHBcPpz5P6zBM2jJr/4/Trb1fdH7+D86gMEKlsb8P4gAAPm+T/0/ZrN/HVap/z8rdj1+DzD3P5zE2UNIh/g/DtSbhzgBAECKI2zw4rMAQBj0hjI8NPs/uuQdX21s+T8u+bxBDN78P8L+64nWcABAQcCvKjC4/T8E/mnc2wv8P9xPY4dqYQBACYKn1gUMAUBK4DVV7oH+P5AiyBLb6fo/XicbkfTw+z+S0AIDweD/PzmPpw45s/o/",
          "dtype": "f8"
         }
        }
       ],
       "layout": {
        "template": {
         "data": {
          "bar": [
           {
            "error_x": {
             "color": "#2a3f5f"
            },
            "error_y": {
             "color": "#2a3f5f"
            },
            "marker": {
             "line": {
              "color": "#E5ECF6",
              "width": 0.5
             },
             "pattern": {
              "fillmode": "overlay",
              "size": 10,
              "solidity": 0.2
             }
            },
            "type": "bar"
           }
          ],
          "barpolar": [
           {
            "marker": {
             "line": {
              "color": "#E5ECF6",
              "width": 0.5
             },
             "pattern": {
              "fillmode": "overlay",
              "size": 10,
              "solidity": 0.2
             }
            },
            "type": "barpolar"
           }
          ],
          "carpet": [
           {
            "aaxis": {
             "endlinecolor": "#2a3f5f",
             "gridcolor": "white",
             "linecolor": "white",
             "minorgridcolor": "white",
             "startlinecolor": "#2a3f5f"
            },
            "baxis": {
             "endlinecolor": "#2a3f5f",
             "gridcolor": "white",
             "linecolor": "white",
             "minorgridcolor": "white",
             "startlinecolor": "#2a3f5f"
            },
            "type": "carpet"
           }
          ],
          "choropleth": [
           {
            "colorbar": {
             "outlinewidth": 0,
             "ticks": ""
            },
            "type": "choropleth"
           }
          ],
          "contour": [
           {
            "colorbar": {
             "outlinewidth": 0,
             "ticks": ""
            },
            "colorscale": [
             [
              0,
              "#0d0887"
             ],
             [
              0.1111111111111111,
              "#46039f"
             ],
             [
              0.2222222222222222,
              "#7201a8"
             ],
             [
              0.3333333333333333,
              "#9c179e"
             ],
             [
              0.4444444444444444,
              "#bd3786"
             ],
             [
              0.5555555555555556,
              "#d8576b"
             ],
             [
              0.6666666666666666,
              "#ed7953"
             ],
             [
              0.7777777777777778,
              "#fb9f3a"
             ],
             [
              0.8888888888888888,
              "#fdca26"
             ],
             [
              1,
              "#f0f921"
             ]
            ],
            "type": "contour"
           }
          ],
          "contourcarpet": [
           {
            "colorbar": {
             "outlinewidth": 0,
             "ticks": ""
            },
            "type": "contourcarpet"
           }
          ],
          "heatmap": [
           {
            "colorbar": {
             "outlinewidth": 0,
             "ticks": ""
            },
            "colorscale": [
             [
              0,
              "#0d0887"
             ],
             [
              0.1111111111111111,
              "#46039f"
             ],
             [
              0.2222222222222222,
              "#7201a8"
             ],
             [
              0.3333333333333333,
              "#9c179e"
             ],
             [
              0.4444444444444444,
              "#bd3786"
             ],
             [
              0.5555555555555556,
              "#d8576b"
             ],
             [
              0.6666666666666666,
              "#ed7953"
             ],
             [
              0.7777777777777778,
              "#fb9f3a"
             ],
             [
              0.8888888888888888,
              "#fdca26"
             ],
             [
              1,
              "#f0f921"
             ]
            ],
            "type": "heatmap"
           }
          ],
          "histogram": [
           {
            "marker": {
             "pattern": {
              "fillmode": "overlay",
              "size": 10,
              "solidity": 0.2
             }
            },
            "type": "histogram"
           }
          ],
          "histogram2d": [
           {
            "colorbar": {
             "outlinewidth": 0,
             "ticks": ""
            },
            "colorscale": [
             [
              0,
              "#0d0887"
             ],
             [
              0.1111111111111111,
              "#46039f"
             ],
             [
              0.2222222222222222,
              "#7201a8"
             ],
             [
              0.3333333333333333,
              "#9c179e"
             ],
             [
              0.4444444444444444,
              "#bd3786"
             ],
             [
              0.5555555555555556,
              "#d8576b"
             ],
             [
              0.6666666666666666,
              "#ed7953"
             ],
             [
              0.7777777777777778,
              "#fb9f3a"
             ],
             [
              0.8888888888888888,
              "#fdca26"
             ],
             [
              1,
              "#f0f921"
             ]
            ],
            "type": "histogram2d"
           }
          ],
          "histogram2dcontour": [
           {
            "colorbar": {
             "outlinewidth": 0,
             "ticks": ""
            },
            "colorscale": [
             [
              0,
              "#0d0887"
             ],
             [
              0.1111111111111111,
              "#46039f"
             ],
             [
              0.2222222222222222,
              "#7201a8"
             ],
             [
              0.3333333333333333,
              "#9c179e"
             ],
             [
              0.4444444444444444,
              "#bd3786"
             ],
             [
              0.5555555555555556,
              "#d8576b"
             ],
             [
              0.6666666666666666,
              "#ed7953"
             ],
             [
              0.7777777777777778,
              "#fb9f3a"
             ],
             [
              0.8888888888888888,
              "#fdca26"
             ],
             [
              1,
              "#f0f921"
             ]
            ],
            "type": "histogram2dcontour"
           }
          ],
          "mesh3d": [
           {
            "colorbar": {
             "outlinewidth": 0,
             "ticks": ""
            },
            "type": "mesh3d"
           }
          ],
          "parcoords": [
           {
            "line": {
             "colorbar": {
              "outlinewidth": 0,
              "ticks": ""
             }
            },
            "type": "parcoords"
           }
          ],
          "pie": [
           {
            "automargin": true,
            "type": "pie"
           }
          ],
          "scatter": [
           {
            "fillpattern": {
             "fillmode": "overlay",
             "size": 10,
             "solidity": 0.2
            },
            "type": "scatter"
           }
          ],
          "scatter3d": [
           {
            "line": {
             "colorbar": {
              "outlinewidth": 0,
              "ticks": ""
             }
            },
            "marker": {
             "colorbar": {
              "outlinewidth": 0,
              "ticks": ""
             }
            },
            "type": "scatter3d"
           }
          ],
          "scattercarpet": [
           {
            "marker": {
             "colorbar": {
              "outlinewidth": 0,
              "ticks": ""
             }
            },
            "type": "scattercarpet"
           }
          ],
          "scattergeo": [
           {
            "marker": {
             "colorbar": {
              "outlinewidth": 0,
              "ticks": ""
             }
            },
            "type": "scattergeo"
           }
          ],
          "scattergl": [
           {
            "marker": {
             "colorbar": {
              "outlinewidth": 0,
              "ticks": ""
             }
            },
            "type": "scattergl"
           }
          ],
          "scattermap": [
           {
            "marker": {
             "colorbar": {
              "outlinewidth": 0,
              "ticks": ""
             }
            },
            "type": "scattermap"
           }
          ],
          "scattermapbox": [
           {
            "marker": {
             "colorbar": {
              "outlinewidth": 0,
              "ticks": ""
             }
            },
            "type": "scattermapbox"
           }
          ],
          "scatterpolar": [
           {
            "marker": {
             "colorbar": {
              "outlinewidth": 0,
              "ticks": ""
             }
            },
            "type": "scatterpolar"
           }
          ],
          "scatterpolargl": [
           {
            "marker": {
             "colorbar": {
              "outlinewidth": 0,
              "ticks": ""
             }
            },
            "type": "scatterpolargl"
           }
          ],
          "scatterternary": [
           {
            "marker": {
             "colorbar": {
              "outlinewidth": 0,
              "ticks": ""
             }
            },
            "type": "scatterternary"
           }
          ],
          "surface": [
           {
            "colorbar": {
             "outlinewidth": 0,
             "ticks": ""
            },
            "colorscale": [
             [
              0,
              "#0d0887"
             ],
             [
              0.1111111111111111,
              "#46039f"
             ],
             [
              0.2222222222222222,
              "#7201a8"
             ],
             [
              0.3333333333333333,
              "#9c179e"
             ],
             [
              0.4444444444444444,
              "#bd3786"
             ],
             [
              0.5555555555555556,
              "#d8576b"
             ],
             [
              0.6666666666666666,
              "#ed7953"
             ],
             [
              0.7777777777777778,
              "#fb9f3a"
             ],
             [
              0.8888888888888888,
              "#fdca26"
             ],
             [
              1,
              "#f0f921"
             ]
            ],
            "type": "surface"
           }
          ],
          "table": [
           {
            "cells": {
             "fill": {
              "color": "#EBF0F8"
             },
             "line": {
              "color": "white"
             }
            },
            "header": {
             "fill": {
              "color": "#C8D4E3"
             },
             "line": {
              "color": "white"
             }
            },
            "type": "table"
           }
          ]
         },
         "layout": {
          "annotationdefaults": {
           "arrowcolor": "#2a3f5f",
           "arrowhead": 0,
           "arrowwidth": 1
          },
          "autotypenumbers": "strict",
          "coloraxis": {
           "colorbar": {
            "outlinewidth": 0,
            "ticks": ""
           }
          },
          "colorscale": {
           "diverging": [
            [
             0,
             "#8e0152"
            ],
            [
             0.1,
             "#c51b7d"
            ],
            [
             0.2,
             "#de77ae"
            ],
            [
             0.3,
             "#f1b6da"
            ],
            [
             0.4,
             "#fde0ef"
            ],
            [
             0.5,
             "#f7f7f7"
            ],
            [
             0.6,
             "#e6f5d0"
            ],
            [
             0.7,
             "#b8e186"
            ],
            [
             0.8,
             "#7fbc41"
            ],
            [
             0.9,
             "#4d9221"
            ],
            [
             1,
             "#276419"
            ]
           ],
           "sequential": [
            [
             0,
             "#0d0887"
            ],
            [
             0.1111111111111111,
             "#46039f"
            ],
            [
             0.2222222222222222,
             "#7201a8"
            ],
            [
             0.3333333333333333,
             "#9c179e"
            ],
            [
             0.4444444444444444,
             "#bd3786"
            ],
            [
             0.5555555555555556,
             "#d8576b"
            ],
            [
             0.6666666666666666,
             "#ed7953"
            ],
            [
             0.7777777777777778,
             "#fb9f3a"
            ],
            [
             0.8888888888888888,
             "#fdca26"
            ],
            [
             1,
             "#f0f921"
            ]
           ],
           "sequentialminus": [
            [
             0,
             "#0d0887"
            ],
            [
             0.1111111111111111,
             "#46039f"
            ],
            [
             0.2222222222222222,
             "#7201a8"
            ],
            [
             0.3333333333333333,
             "#9c179e"
            ],
            [
             0.4444444444444444,
             "#bd3786"
            ],
            [
             0.5555555555555556,
             "#d8576b"
            ],
            [
             0.6666666666666666,
             "#ed7953"
            ],
            [
             0.7777777777777778,
             "#fb9f3a"
            ],
            [
             0.8888888888888888,
             "#fdca26"
            ],
            [
             1,
             "#f0f921"
            ]
           ]
          },
          "colorway": [
           "#636efa",
           "#EF553B",
           "#00cc96",
           "#ab63fa",
           "#FFA15A",
           "#19d3f3",
           "#FF6692",
           "#B6E880",
           "#FF97FF",
           "#FECB52"
          ],
          "font": {
           "color": "#2a3f5f"
          },
          "geo": {
           "bgcolor": "white",
           "lakecolor": "white",
           "landcolor": "#E5ECF6",
           "showlakes": true,
           "showland": true,
           "subunitcolor": "white"
          },
          "hoverlabel": {
           "align": "left"
          },
          "hovermode": "closest",
          "mapbox": {
           "style": "light"
          },
          "paper_bgcolor": "white",
          "plot_bgcolor": "#E5ECF6",
          "polar": {
           "angularaxis": {
            "gridcolor": "white",
            "linecolor": "white",
            "ticks": ""
           },
           "bgcolor": "#E5ECF6",
           "radialaxis": {
            "gridcolor": "white",
            "linecolor": "white",
            "ticks": ""
           }
          },
          "scene": {
           "xaxis": {
            "backgroundcolor": "#E5ECF6",
            "gridcolor": "white",
            "gridwidth": 2,
            "linecolor": "white",
            "showbackground": true,
            "ticks": "",
            "zerolinecolor": "white"
           },
           "yaxis": {
            "backgroundcolor": "#E5ECF6",
            "gridcolor": "white",
            "gridwidth": 2,
            "linecolor": "white",
            "showbackground": true,
            "ticks": "",
            "zerolinecolor": "white"
           },
           "zaxis": {
            "backgroundcolor": "#E5ECF6",
            "gridcolor": "white",
            "gridwidth": 2,
            "linecolor": "white",
            "showbackground": true,
            "ticks": "",
            "zerolinecolor": "white"
           }
          },
          "shapedefaults": {
           "line": {
            "color": "#2a3f5f"
           }
          },
          "ternary": {
           "aaxis": {
            "gridcolor": "white",
            "linecolor": "white",
            "ticks": ""
           },
           "baxis": {
            "gridcolor": "white",
            "linecolor": "white",
            "ticks": ""
           },
           "bgcolor": "#E5ECF6",
           "caxis": {
            "gridcolor": "white",
            "linecolor": "white",
            "ticks": ""
           }
          },
          "title": {
           "x": 0.05
          },
          "xaxis": {
           "automargin": true,
           "gridcolor": "white",
           "linecolor": "white",
           "ticks": "",
           "title": {
            "standoff": 15
           },
           "zerolinecolor": "white",
           "zerolinewidth": 2
          },
          "yaxis": {
           "automargin": true,
           "gridcolor": "white",
           "linecolor": "white",
           "ticks": "",
           "title": {
            "standoff": 15
           },
           "zerolinecolor": "white",
           "zerolinewidth": 2
          }
         }
        },
        "title": {
         "text": "x2 vs Y (with model prediction)"
        },
        "xaxis": {
         "title": {
          "text": "X3"
         }
        },
        "yaxis": {
         "title": {
          "text": "Y"
         }
        }
       }
      }
     },
     "metadata": {},
     "output_type": "display_data"
    },
    {
     "data": {
      "application/vnd.plotly.v1+json": {
       "config": {
        "plotlyServerURL": "https://plot.ly"
       },
       "data": [
        {
         "mode": "markers",
         "name": "Data Points",
         "type": "scatter",
         "x": {
          "bdata": "mpmZmZmZyT+amZmZmZnJP5qZmZmZmck/mpmZmZmZyT+amZmZmZnJP5qZmZmZmdk/MzMzMzMz0z+amZmZmZnJP5qZmZmZmck/mpmZmZmZuT+amZmZmZnJP5qZmZmZmck/mpmZmZmZuT+amZmZmZm5P5qZmZmZmck/mpmZmZmZ2T+amZmZmZnZPzMzMzMzM9M/MzMzMzMz0z8zMzMzMzPTP5qZmZmZmck/mpmZmZmZ2T+amZmZmZnJPwAAAAAAAOA/mpmZmZmZyT+amZmZmZnJP5qZmZmZmdk/mpmZmZmZyT+amZmZmZnJP5qZmZmZmck/mpmZmZmZyT+amZmZmZnZP5qZmZmZmbk/mpmZmZmZyT+amZmZmZnJP5qZmZmZmck/mpmZmZmZyT+amZmZmZm5P5qZmZmZmck/mpmZmZmZyT8zMzMzMzPTPzMzMzMzM9M/mpmZmZmZyT8zMzMzMzPjP5qZmZmZmdk/MzMzMzMz0z+amZmZmZnJP5qZmZmZmck/mpmZmZmZyT+amZmZmZnJP2ZmZmZmZvY/AAAAAAAA+D8AAAAAAAD4P83MzMzMzPQ/AAAAAAAA+D/NzMzMzMz0P5qZmZmZmfk/AAAAAAAA8D/NzMzMzMz0P2ZmZmZmZvY/AAAAAAAA8D8AAAAAAAD4PwAAAAAAAPA/ZmZmZmZm9j/NzMzMzMz0P2ZmZmZmZvY/AAAAAAAA+D8AAAAAAADwPwAAAAAAAPg/mpmZmZmZ8T/NzMzMzMz8P83MzMzMzPQ/AAAAAAAA+D8zMzMzMzPzP83MzMzMzPQ/ZmZmZmZm9j9mZmZmZmb2PzMzMzMzM/s/AAAAAAAA+D8AAAAAAADwP5qZmZmZmfE/AAAAAAAA8D8zMzMzMzPzP5qZmZmZmfk/AAAAAAAA+D+amZmZmZn5PwAAAAAAAPg/zczMzMzM9D/NzMzMzMz0P83MzMzMzPQ/MzMzMzMz8z9mZmZmZmb2PzMzMzMzM/M/AAAAAAAA8D/NzMzMzMz0PzMzMzMzM/M/zczMzMzM9D/NzMzMzMz0P5qZmZmZmfE/zczMzMzM9D8AAAAAAAAEQGZmZmZmZv4/zczMzMzMAEDNzMzMzMz8P5qZmZmZmQFAzczMzMzMAEAzMzMzMzP7P83MzMzMzPw/zczMzMzM/D8AAAAAAAAEQAAAAAAAAABAZmZmZmZm/j/NzMzMzMwAQAAAAAAAAABAMzMzMzMzA0BmZmZmZmYCQM3MzMzMzPw/mpmZmZmZAUBmZmZmZmYCQAAAAAAAAPg/ZmZmZmZmAkAAAAAAAAAAQAAAAAAAAABAzczMzMzM/D/NzMzMzMwAQM3MzMzMzPw/zczMzMzM/D/NzMzMzMz8P83MzMzMzABAmpmZmZmZ+T9mZmZmZmb+PwAAAAAAAABAmpmZmZmZAUAAAAAAAAD4P2ZmZmZmZvY/ZmZmZmZmAkAzMzMzMzMDQM3MzMzMzPw/zczMzMzM/D/NzMzMzMwAQDMzMzMzMwNAZmZmZmZmAkBmZmZmZmb+P2ZmZmZmZgJAAAAAAAAABEBmZmZmZmYCQGZmZmZmZv4/AAAAAAAAAEBmZmZmZmYCQM3MzMzMzPw/",
          "dtype": "f8"
         },
         "y": {
          "bdata": "AAAAAAAAAAAAAAAAAAAAAAAAAAAAAAAAAAAAAAAAAAAAAAAAAAAAAAAAAAAAAAAAAAABAQEBAQEBAQEBAQEBAQEBAQEBAQEBAQEBAQEBAQEBAQEBAQEBAQEBAQEBAQEBAQEBAQICAgICAgICAgICAgICAgICAgICAgICAgICAgICAgICAgICAgICAgICAgICAgICAgIC",
          "dtype": "i1"
         }
        },
        {
         "marker": {
          "color": "red"
         },
         "mode": "markers",
         "name": "Model Prediction",
         "type": "scatter",
         "x": {
          "bdata": "mpmZmZmZyT+amZmZmZnJP5qZmZmZmck/mpmZmZmZyT+amZmZmZnJP5qZmZmZmdk/MzMzMzMz0z+amZmZmZnJP5qZmZmZmck/mpmZmZmZuT+amZmZmZnJP5qZmZmZmck/mpmZmZmZuT+amZmZmZm5P5qZmZmZmck/mpmZmZmZ2T+amZmZmZnZPzMzMzMzM9M/MzMzMzMz0z8zMzMzMzPTP5qZmZmZmck/mpmZmZmZ2T+amZmZmZnJPwAAAAAAAOA/mpmZmZmZyT+amZmZmZnJP5qZmZmZmdk/mpmZmZmZyT+amZmZmZnJP5qZmZmZmck/mpmZmZmZyT+amZmZmZnZP5qZmZmZmbk/mpmZmZmZyT+amZmZmZnJP5qZmZmZmck/mpmZmZmZyT+amZmZmZm5P5qZmZmZmck/mpmZmZmZyT8zMzMzMzPTPzMzMzMzM9M/mpmZmZmZyT8zMzMzMzPjP5qZmZmZmdk/MzMzMzMz0z+amZmZmZnJP5qZmZmZmck/mpmZmZmZyT+amZmZmZnJP2ZmZmZmZvY/AAAAAAAA+D8AAAAAAAD4P83MzMzMzPQ/AAAAAAAA+D/NzMzMzMz0P5qZmZmZmfk/AAAAAAAA8D/NzMzMzMz0P2ZmZmZmZvY/AAAAAAAA8D8AAAAAAAD4PwAAAAAAAPA/ZmZmZmZm9j/NzMzMzMz0P2ZmZmZmZvY/AAAAAAAA+D8AAAAAAADwPwAAAAAAAPg/mpmZmZmZ8T/NzMzMzMz8P83MzMzMzPQ/AAAAAAAA+D8zMzMzMzPzP83MzMzMzPQ/ZmZmZmZm9j9mZmZmZmb2PzMzMzMzM/s/AAAAAAAA+D8AAAAAAADwP5qZmZmZmfE/AAAAAAAA8D8zMzMzMzPzP5qZmZmZmfk/AAAAAAAA+D+amZmZmZn5PwAAAAAAAPg/zczMzMzM9D/NzMzMzMz0P83MzMzMzPQ/MzMzMzMz8z9mZmZmZmb2PzMzMzMzM/M/AAAAAAAA8D/NzMzMzMz0PzMzMzMzM/M/zczMzMzM9D/NzMzMzMz0P5qZmZmZmfE/zczMzMzM9D8AAAAAAAAEQGZmZmZmZv4/zczMzMzMAEDNzMzMzMz8P5qZmZmZmQFAzczMzMzMAEAzMzMzMzP7P83MzMzMzPw/zczMzMzM/D8AAAAAAAAEQAAAAAAAAABAZmZmZmZm/j/NzMzMzMwAQAAAAAAAAABAMzMzMzMzA0BmZmZmZmYCQM3MzMzMzPw/mpmZmZmZAUBmZmZmZmYCQAAAAAAAAPg/ZmZmZmZmAkAAAAAAAAAAQAAAAAAAAABAzczMzMzM/D/NzMzMzMwAQM3MzMzMzPw/zczMzMzM/D/NzMzMzMz8P83MzMzMzABAmpmZmZmZ+T9mZmZmZmb+PwAAAAAAAABAmpmZmZmZAUAAAAAAAAD4P2ZmZmZmZvY/ZmZmZmZmAkAzMzMzMzMDQM3MzMzMzPw/zczMzMzM/D/NzMzMzMwAQDMzMzMzMwNAZmZmZmZmAkBmZmZmZmb+P2ZmZmZmZgJAAAAAAAAABEBmZmZmZmYCQGZmZmZmZv4/AAAAAAAAAEBmZmZmZmYCQM3MzMzMzPw/",
          "dtype": "f8"
         },
         "y": {
          "bdata": "3MxVePQhtb8gn8tDt4ukv7jZBxO65ai/cEYuoKswiT/qj2zSO0uzv8TrQZ5R2K0/5Ltq2N6goz8EXXlc6camv7j+mLfzTpQ/7viTe94Ktb/MJX/Q/uy5vwBx1uLg4Ug/HAlcGEQBt7/OZEHbrT26v4CxiYbwAs2/MDDymHAEpb+MzkL9Q/ugvxDFWo6kJJa/mE0y0EF8oL8ASSjKqBWGvxgQ/oA1SKa/EG+z54C5qz/uZAsnez+/v/ZKfAiNosY/xHIX3BvBsT8AMNiUkeV2v/4fsq6UqLk/oBcuo+Qksr/eCT8erfi2vxBkN0PscZQ/UOAkVxMuij8kATwELbGgP8aIFaXW8sO/MmwLvhPjw79IdVObTMiVv0wqz1d45bq/JvZ0Uvk4w7+/ZHEkUgPAv4DKn97/1Xy/BCELGa+BrL8YzXzxcQyhv0jAKQOwHLI/IDZKdaPVjr8QWeiPwOnLP9Q3noTwH8I/MFxEIqVgoD/YGid1GwKpv2CcU7472I2/xEM28psPt7/AoE0pPTewv3iSvUxgPfM/DMb2vqOO9D+MH+IpfDD1P05/CtmN9/I/oiphSh8A9T/ArrYjEB70P39eD1XqYPY/xIT19N/77D++vl4Oxc7yP7AotV5L2/M/3WA4YiWa7j/yZNRpsnv0P527a+5GbO4/kIBY1CcL9T927SUpm/DwP8waTPhXvvI/sisndSoe9j/gPzCZwzrvP3ap+316jvU/pA9LziFY8D85fvZFbnn5P/ZGEZRzkvE/NlJhEgGm9j9tl0YNeSjzP6K+guh7EfI/PqO2yZj88j9wodVhXjj0PwYjAL9T7fc/ge0aYTx39T9L33A1b1PrP6COfnS7OPA/5Cb3Jw/D7T968MHgLNXwP5gMvWCJw/g/9Efw0NZ59j+m+8jksx72P+QoPS/a0PQ/HDTCFnn/8j9sIrNddLTyP6yK/pG41vI/dMQI5l1D8z/KfJsFFp30P0D0fq8+Q/E/JV044AjB7D/UGnxzW0PzPwasuaW46vE/EZiL/q/08j/j2ktEKG3yP1oCpV3g5Os/7YjadnOn8j95LEPzLPQBQAT+adzbC/w/hgaNYQ5n/j9PgK7SjuD7P8ahfn/8CgBACcFL1bgIAECe1ZxSNKT5Pzo1QjbDpfw/+kOi/y4m/D8nOhHFHDwBQEYp2B54cvs/K7x8HyW0+z8Ti14+9Hn9Pw1pb9ts9vw/Kt6vYZhtAEB9nw7DQkj/P0hgKKjQFvs/TQ6DIL1bAECD7oN7qpgBQP7017Fqvvc/rf5zirDZ/z/H/orzW5X8P04AqjmLaP8/wTI569Fx+T8sPR/Y2DH+Pwq47/djifs/Gr1gSpYx+T8QYHBcPpz5P6zBM2jJr/4/Trb1fdH7+D86gMEKlsb8P4gAAPm+T/0/ZrN/HVap/z8rdj1+DzD3P5zE2UNIh/g/DtSbhzgBAECKI2zw4rMAQBj0hjI8NPs/uuQdX21s+T8u+bxBDN78P8L+64nWcABAQcCvKjC4/T8E/mnc2wv8P9xPY4dqYQBACYKn1gUMAUBK4DVV7oH+P5AiyBLb6fo/XicbkfTw+z+S0AIDweD/PzmPpw45s/o/",
          "dtype": "f8"
         }
        }
       ],
       "layout": {
        "template": {
         "data": {
          "bar": [
           {
            "error_x": {
             "color": "#2a3f5f"
            },
            "error_y": {
             "color": "#2a3f5f"
            },
            "marker": {
             "line": {
              "color": "#E5ECF6",
              "width": 0.5
             },
             "pattern": {
              "fillmode": "overlay",
              "size": 10,
              "solidity": 0.2
             }
            },
            "type": "bar"
           }
          ],
          "barpolar": [
           {
            "marker": {
             "line": {
              "color": "#E5ECF6",
              "width": 0.5
             },
             "pattern": {
              "fillmode": "overlay",
              "size": 10,
              "solidity": 0.2
             }
            },
            "type": "barpolar"
           }
          ],
          "carpet": [
           {
            "aaxis": {
             "endlinecolor": "#2a3f5f",
             "gridcolor": "white",
             "linecolor": "white",
             "minorgridcolor": "white",
             "startlinecolor": "#2a3f5f"
            },
            "baxis": {
             "endlinecolor": "#2a3f5f",
             "gridcolor": "white",
             "linecolor": "white",
             "minorgridcolor": "white",
             "startlinecolor": "#2a3f5f"
            },
            "type": "carpet"
           }
          ],
          "choropleth": [
           {
            "colorbar": {
             "outlinewidth": 0,
             "ticks": ""
            },
            "type": "choropleth"
           }
          ],
          "contour": [
           {
            "colorbar": {
             "outlinewidth": 0,
             "ticks": ""
            },
            "colorscale": [
             [
              0,
              "#0d0887"
             ],
             [
              0.1111111111111111,
              "#46039f"
             ],
             [
              0.2222222222222222,
              "#7201a8"
             ],
             [
              0.3333333333333333,
              "#9c179e"
             ],
             [
              0.4444444444444444,
              "#bd3786"
             ],
             [
              0.5555555555555556,
              "#d8576b"
             ],
             [
              0.6666666666666666,
              "#ed7953"
             ],
             [
              0.7777777777777778,
              "#fb9f3a"
             ],
             [
              0.8888888888888888,
              "#fdca26"
             ],
             [
              1,
              "#f0f921"
             ]
            ],
            "type": "contour"
           }
          ],
          "contourcarpet": [
           {
            "colorbar": {
             "outlinewidth": 0,
             "ticks": ""
            },
            "type": "contourcarpet"
           }
          ],
          "heatmap": [
           {
            "colorbar": {
             "outlinewidth": 0,
             "ticks": ""
            },
            "colorscale": [
             [
              0,
              "#0d0887"
             ],
             [
              0.1111111111111111,
              "#46039f"
             ],
             [
              0.2222222222222222,
              "#7201a8"
             ],
             [
              0.3333333333333333,
              "#9c179e"
             ],
             [
              0.4444444444444444,
              "#bd3786"
             ],
             [
              0.5555555555555556,
              "#d8576b"
             ],
             [
              0.6666666666666666,
              "#ed7953"
             ],
             [
              0.7777777777777778,
              "#fb9f3a"
             ],
             [
              0.8888888888888888,
              "#fdca26"
             ],
             [
              1,
              "#f0f921"
             ]
            ],
            "type": "heatmap"
           }
          ],
          "histogram": [
           {
            "marker": {
             "pattern": {
              "fillmode": "overlay",
              "size": 10,
              "solidity": 0.2
             }
            },
            "type": "histogram"
           }
          ],
          "histogram2d": [
           {
            "colorbar": {
             "outlinewidth": 0,
             "ticks": ""
            },
            "colorscale": [
             [
              0,
              "#0d0887"
             ],
             [
              0.1111111111111111,
              "#46039f"
             ],
             [
              0.2222222222222222,
              "#7201a8"
             ],
             [
              0.3333333333333333,
              "#9c179e"
             ],
             [
              0.4444444444444444,
              "#bd3786"
             ],
             [
              0.5555555555555556,
              "#d8576b"
             ],
             [
              0.6666666666666666,
              "#ed7953"
             ],
             [
              0.7777777777777778,
              "#fb9f3a"
             ],
             [
              0.8888888888888888,
              "#fdca26"
             ],
             [
              1,
              "#f0f921"
             ]
            ],
            "type": "histogram2d"
           }
          ],
          "histogram2dcontour": [
           {
            "colorbar": {
             "outlinewidth": 0,
             "ticks": ""
            },
            "colorscale": [
             [
              0,
              "#0d0887"
             ],
             [
              0.1111111111111111,
              "#46039f"
             ],
             [
              0.2222222222222222,
              "#7201a8"
             ],
             [
              0.3333333333333333,
              "#9c179e"
             ],
             [
              0.4444444444444444,
              "#bd3786"
             ],
             [
              0.5555555555555556,
              "#d8576b"
             ],
             [
              0.6666666666666666,
              "#ed7953"
             ],
             [
              0.7777777777777778,
              "#fb9f3a"
             ],
             [
              0.8888888888888888,
              "#fdca26"
             ],
             [
              1,
              "#f0f921"
             ]
            ],
            "type": "histogram2dcontour"
           }
          ],
          "mesh3d": [
           {
            "colorbar": {
             "outlinewidth": 0,
             "ticks": ""
            },
            "type": "mesh3d"
           }
          ],
          "parcoords": [
           {
            "line": {
             "colorbar": {
              "outlinewidth": 0,
              "ticks": ""
             }
            },
            "type": "parcoords"
           }
          ],
          "pie": [
           {
            "automargin": true,
            "type": "pie"
           }
          ],
          "scatter": [
           {
            "fillpattern": {
             "fillmode": "overlay",
             "size": 10,
             "solidity": 0.2
            },
            "type": "scatter"
           }
          ],
          "scatter3d": [
           {
            "line": {
             "colorbar": {
              "outlinewidth": 0,
              "ticks": ""
             }
            },
            "marker": {
             "colorbar": {
              "outlinewidth": 0,
              "ticks": ""
             }
            },
            "type": "scatter3d"
           }
          ],
          "scattercarpet": [
           {
            "marker": {
             "colorbar": {
              "outlinewidth": 0,
              "ticks": ""
             }
            },
            "type": "scattercarpet"
           }
          ],
          "scattergeo": [
           {
            "marker": {
             "colorbar": {
              "outlinewidth": 0,
              "ticks": ""
             }
            },
            "type": "scattergeo"
           }
          ],
          "scattergl": [
           {
            "marker": {
             "colorbar": {
              "outlinewidth": 0,
              "ticks": ""
             }
            },
            "type": "scattergl"
           }
          ],
          "scattermap": [
           {
            "marker": {
             "colorbar": {
              "outlinewidth": 0,
              "ticks": ""
             }
            },
            "type": "scattermap"
           }
          ],
          "scattermapbox": [
           {
            "marker": {
             "colorbar": {
              "outlinewidth": 0,
              "ticks": ""
             }
            },
            "type": "scattermapbox"
           }
          ],
          "scatterpolar": [
           {
            "marker": {
             "colorbar": {
              "outlinewidth": 0,
              "ticks": ""
             }
            },
            "type": "scatterpolar"
           }
          ],
          "scatterpolargl": [
           {
            "marker": {
             "colorbar": {
              "outlinewidth": 0,
              "ticks": ""
             }
            },
            "type": "scatterpolargl"
           }
          ],
          "scatterternary": [
           {
            "marker": {
             "colorbar": {
              "outlinewidth": 0,
              "ticks": ""
             }
            },
            "type": "scatterternary"
           }
          ],
          "surface": [
           {
            "colorbar": {
             "outlinewidth": 0,
             "ticks": ""
            },
            "colorscale": [
             [
              0,
              "#0d0887"
             ],
             [
              0.1111111111111111,
              "#46039f"
             ],
             [
              0.2222222222222222,
              "#7201a8"
             ],
             [
              0.3333333333333333,
              "#9c179e"
             ],
             [
              0.4444444444444444,
              "#bd3786"
             ],
             [
              0.5555555555555556,
              "#d8576b"
             ],
             [
              0.6666666666666666,
              "#ed7953"
             ],
             [
              0.7777777777777778,
              "#fb9f3a"
             ],
             [
              0.8888888888888888,
              "#fdca26"
             ],
             [
              1,
              "#f0f921"
             ]
            ],
            "type": "surface"
           }
          ],
          "table": [
           {
            "cells": {
             "fill": {
              "color": "#EBF0F8"
             },
             "line": {
              "color": "white"
             }
            },
            "header": {
             "fill": {
              "color": "#C8D4E3"
             },
             "line": {
              "color": "white"
             }
            },
            "type": "table"
           }
          ]
         },
         "layout": {
          "annotationdefaults": {
           "arrowcolor": "#2a3f5f",
           "arrowhead": 0,
           "arrowwidth": 1
          },
          "autotypenumbers": "strict",
          "coloraxis": {
           "colorbar": {
            "outlinewidth": 0,
            "ticks": ""
           }
          },
          "colorscale": {
           "diverging": [
            [
             0,
             "#8e0152"
            ],
            [
             0.1,
             "#c51b7d"
            ],
            [
             0.2,
             "#de77ae"
            ],
            [
             0.3,
             "#f1b6da"
            ],
            [
             0.4,
             "#fde0ef"
            ],
            [
             0.5,
             "#f7f7f7"
            ],
            [
             0.6,
             "#e6f5d0"
            ],
            [
             0.7,
             "#b8e186"
            ],
            [
             0.8,
             "#7fbc41"
            ],
            [
             0.9,
             "#4d9221"
            ],
            [
             1,
             "#276419"
            ]
           ],
           "sequential": [
            [
             0,
             "#0d0887"
            ],
            [
             0.1111111111111111,
             "#46039f"
            ],
            [
             0.2222222222222222,
             "#7201a8"
            ],
            [
             0.3333333333333333,
             "#9c179e"
            ],
            [
             0.4444444444444444,
             "#bd3786"
            ],
            [
             0.5555555555555556,
             "#d8576b"
            ],
            [
             0.6666666666666666,
             "#ed7953"
            ],
            [
             0.7777777777777778,
             "#fb9f3a"
            ],
            [
             0.8888888888888888,
             "#fdca26"
            ],
            [
             1,
             "#f0f921"
            ]
           ],
           "sequentialminus": [
            [
             0,
             "#0d0887"
            ],
            [
             0.1111111111111111,
             "#46039f"
            ],
            [
             0.2222222222222222,
             "#7201a8"
            ],
            [
             0.3333333333333333,
             "#9c179e"
            ],
            [
             0.4444444444444444,
             "#bd3786"
            ],
            [
             0.5555555555555556,
             "#d8576b"
            ],
            [
             0.6666666666666666,
             "#ed7953"
            ],
            [
             0.7777777777777778,
             "#fb9f3a"
            ],
            [
             0.8888888888888888,
             "#fdca26"
            ],
            [
             1,
             "#f0f921"
            ]
           ]
          },
          "colorway": [
           "#636efa",
           "#EF553B",
           "#00cc96",
           "#ab63fa",
           "#FFA15A",
           "#19d3f3",
           "#FF6692",
           "#B6E880",
           "#FF97FF",
           "#FECB52"
          ],
          "font": {
           "color": "#2a3f5f"
          },
          "geo": {
           "bgcolor": "white",
           "lakecolor": "white",
           "landcolor": "#E5ECF6",
           "showlakes": true,
           "showland": true,
           "subunitcolor": "white"
          },
          "hoverlabel": {
           "align": "left"
          },
          "hovermode": "closest",
          "mapbox": {
           "style": "light"
          },
          "paper_bgcolor": "white",
          "plot_bgcolor": "#E5ECF6",
          "polar": {
           "angularaxis": {
            "gridcolor": "white",
            "linecolor": "white",
            "ticks": ""
           },
           "bgcolor": "#E5ECF6",
           "radialaxis": {
            "gridcolor": "white",
            "linecolor": "white",
            "ticks": ""
           }
          },
          "scene": {
           "xaxis": {
            "backgroundcolor": "#E5ECF6",
            "gridcolor": "white",
            "gridwidth": 2,
            "linecolor": "white",
            "showbackground": true,
            "ticks": "",
            "zerolinecolor": "white"
           },
           "yaxis": {
            "backgroundcolor": "#E5ECF6",
            "gridcolor": "white",
            "gridwidth": 2,
            "linecolor": "white",
            "showbackground": true,
            "ticks": "",
            "zerolinecolor": "white"
           },
           "zaxis": {
            "backgroundcolor": "#E5ECF6",
            "gridcolor": "white",
            "gridwidth": 2,
            "linecolor": "white",
            "showbackground": true,
            "ticks": "",
            "zerolinecolor": "white"
           }
          },
          "shapedefaults": {
           "line": {
            "color": "#2a3f5f"
           }
          },
          "ternary": {
           "aaxis": {
            "gridcolor": "white",
            "linecolor": "white",
            "ticks": ""
           },
           "baxis": {
            "gridcolor": "white",
            "linecolor": "white",
            "ticks": ""
           },
           "bgcolor": "#E5ECF6",
           "caxis": {
            "gridcolor": "white",
            "linecolor": "white",
            "ticks": ""
           }
          },
          "title": {
           "x": 0.05
          },
          "xaxis": {
           "automargin": true,
           "gridcolor": "white",
           "linecolor": "white",
           "ticks": "",
           "title": {
            "standoff": 15
           },
           "zerolinecolor": "white",
           "zerolinewidth": 2
          },
          "yaxis": {
           "automargin": true,
           "gridcolor": "white",
           "linecolor": "white",
           "ticks": "",
           "title": {
            "standoff": 15
           },
           "zerolinecolor": "white",
           "zerolinewidth": 2
          }
         }
        },
        "title": {
         "text": "x3 vs Y (with model prediction)"
        },
        "xaxis": {
         "title": {
          "text": "X4"
         }
        },
        "yaxis": {
         "title": {
          "text": "Y"
         }
        }
       }
      }
     },
     "metadata": {},
     "output_type": "display_data"
    },
    {
     "data": {
      "application/vnd.plotly.v1+json": {
       "config": {
        "plotlyServerURL": "https://plot.ly"
       },
       "data": [
        {
         "marker": {
          "color": "rgba(99, 110, 250, 0.7)",
          "line": {
           "color": "DarkSlateGrey",
           "width": 1
          }
         },
         "mode": "markers",
         "name": "Residuals",
         "type": "scatter",
         "x": {
          "bdata": "3MxVePQhtb8gn8tDt4ukv7jZBxO65ai/cEYuoKswiT/qj2zSO0uzv8TrQZ5R2K0/5Ltq2N6goz8EXXlc6camv7j+mLfzTpQ/7viTe94Ktb/MJX/Q/uy5vwBx1uLg4Ug/HAlcGEQBt7/OZEHbrT26v4CxiYbwAs2/MDDymHAEpb+MzkL9Q/ugvxDFWo6kJJa/mE0y0EF8oL8ASSjKqBWGvxgQ/oA1SKa/EG+z54C5qz/uZAsnez+/v/ZKfAiNosY/xHIX3BvBsT8AMNiUkeV2v/4fsq6UqLk/oBcuo+Qksr/eCT8erfi2vxBkN0PscZQ/UOAkVxMuij8kATwELbGgP8aIFaXW8sO/MmwLvhPjw79IdVObTMiVv0wqz1d45bq/JvZ0Uvk4w7+/ZHEkUgPAv4DKn97/1Xy/BCELGa+BrL8YzXzxcQyhv0jAKQOwHLI/IDZKdaPVjr8QWeiPwOnLP9Q3noTwH8I/MFxEIqVgoD/YGid1GwKpv2CcU7472I2/xEM28psPt7/AoE0pPTewv3iSvUxgPfM/DMb2vqOO9D+MH+IpfDD1P05/CtmN9/I/oiphSh8A9T/ArrYjEB70P39eD1XqYPY/xIT19N/77D++vl4Oxc7yP7AotV5L2/M/3WA4YiWa7j/yZNRpsnv0P527a+5GbO4/kIBY1CcL9T927SUpm/DwP8waTPhXvvI/sisndSoe9j/gPzCZwzrvP3ap+316jvU/pA9LziFY8D85fvZFbnn5P/ZGEZRzkvE/NlJhEgGm9j9tl0YNeSjzP6K+guh7EfI/PqO2yZj88j9wodVhXjj0PwYjAL9T7fc/ge0aYTx39T9L33A1b1PrP6COfnS7OPA/5Cb3Jw/D7T968MHgLNXwP5gMvWCJw/g/9Efw0NZ59j+m+8jksx72P+QoPS/a0PQ/HDTCFnn/8j9sIrNddLTyP6yK/pG41vI/dMQI5l1D8z/KfJsFFp30P0D0fq8+Q/E/JV044AjB7D/UGnxzW0PzPwasuaW46vE/EZiL/q/08j/j2ktEKG3yP1oCpV3g5Os/7YjadnOn8j95LEPzLPQBQAT+adzbC/w/hgaNYQ5n/j9PgK7SjuD7P8ahfn/8CgBACcFL1bgIAECe1ZxSNKT5Pzo1QjbDpfw/+kOi/y4m/D8nOhHFHDwBQEYp2B54cvs/K7x8HyW0+z8Ti14+9Hn9Pw1pb9ts9vw/Kt6vYZhtAEB9nw7DQkj/P0hgKKjQFvs/TQ6DIL1bAECD7oN7qpgBQP7017Fqvvc/rf5zirDZ/z/H/orzW5X8P04AqjmLaP8/wTI569Fx+T8sPR/Y2DH+Pwq47/djifs/Gr1gSpYx+T8QYHBcPpz5P6zBM2jJr/4/Trb1fdH7+D86gMEKlsb8P4gAAPm+T/0/ZrN/HVap/z8rdj1+DzD3P5zE2UNIh/g/DtSbhzgBAECKI2zw4rMAQBj0hjI8NPs/uuQdX21s+T8u+bxBDN78P8L+64nWcABAQcCvKjC4/T8E/mnc2wv8P9xPY4dqYQBACYKn1gUMAUBK4DVV7oH+P5AiyBLb6fo/XicbkfTw+z+S0AIDweD/PzmPpw45s/o/",
          "dtype": "f8"
         },
         "y": {
          "bdata": "3MxVePQhtT8gn8tDt4ukP7jZBxO65ag/cEYuoKswib/qj2zSO0uzP8TrQZ5R2K2/5Ltq2N6go78EXXlc6camP7j+mLfzTpS/7viTe94KtT/MJX/Q/uy5PwBx1uLg4Ui/HAlcGEQBtz/OZEHbrT26P4CxiYbwAs0/MDDymHAEpT+MzkL9Q/ugPxDFWo6kJJY/mE0y0EF8oD8ASSjKqBWGPxgQ/oA1SKY/EG+z54C5q7/uZAsnez+/P/ZKfAiNosa/xHIX3BvBsb8AMNiUkeV2P/4fsq6UqLm/oBcuo+Qksj/eCT8erfi2PxBkN0PscZS/UOAkVxMuir8kATwELbGgv8aIFaXW8sM/MmwLvhPjwz9IdVObTMiVP0wqz1d45bo/JvZ0Uvk4wz+/ZHEkUgPAP4DKn97/1Xw/BCELGa+BrD8YzXzxcQyhP0jAKQOwHLK/IDZKdaPVjj8QWeiPwOnLv9Q3noTwH8K/MFxEIqVgoL/YGid1GwKpP2CcU7472I0/xEM28psPtz/AoE0pPTewP8CT7GUC68m/MBjb+4460r8wfoin8MHUv3D6U8huvMe/iKqEKX0A1L8Au9qOQHjQv/x5PVSpg9m/4NlTWAAhuD/w9fVyKHbGv4BFqfVa2s6/MPJ53Kldpj/Ik1Gnye7RvzBGRBmRO6k/QAJiUZ8s1L/Arr0kZROuv2DWYMK/8sW/yK6c1Kl42L8ABPjZjKeYP9il7vfpOda/AOnDknMIlr9y/OyL3PLiv2BvFEE5J7m/2EiFSQSY2r9ouzRqyEPJvxD1FUTfi8C/8Bm1Tcbkx7/AhVaHeeHQvxiMAPxOtd+/BLZrhPHc1b/UgjwqQ7LCPwBQRz+6XYy/4MhGwIbnsT9ADz4YnKWqvzAZesESh+G/0B/BQ1vn2b+Y7iOTz3rYv5Cj9LxoQ9O/4KARtsj7x79gE5ntoqPFv2BV9I/Etca/oCNGMO8ayr8o820WWHTSvwBE7/fqM7S/2BY9/rj3uT+g1uCb2xrKv2DAmluKq76/iMBc9H+lx78Y114iQmnDv5j2a4l+bMA/aEfUtps7xb+QxzI0z0LPv+APsBwhoc8/oJcv5xmPuT/E/kW1xH3QPwCMQ/3++HW/ABKCl6pxcb+IqYy1Lm/ZPzBW7k3m0co/MODtAojOzj9wohNRzMHDv+han4QfNtI/VA8Ngmsv0T9opwsNXjDEP5i3hCSZTMg/gIr3axhmq79gECyep/emP+B+Xl+9pNM/QJPDIEjvpr8w6D64p4rJvwQWUJwqg+A/gKkAxrongz/ICahjIFXLP0D2v8qY7qI//DQbU7g42j9ALQx+cuK8P9gfQSBw2tE/mAt91qY52z/Afz6OBo/ZP0Dlw3xpA7U/yCYpCLoQ3D8w/vOpT8vJP8D7/zcIgsU/gCYToHiqlT+qE4UD4Z/hP5DtmPDe4t0/AOBAvXmIQ79AcYQNXny2v6Av5DUPL9M/GG2Ig0pO2j+QNhjynQ/JP4Cw/3qiNay/+P2Bqn4+wj/gD7AcIaHPPwD309ihWqi/kCB4al3AwL9g+6GsGuG3P8B137STWNQ/iGKTuy080D8Abi/9/D5/PxzDYcUbM9U/",
          "dtype": "f8"
         }
        },
        {
         "line": {
          "color": "red",
          "dash": "dash"
         },
         "mode": "lines",
         "name": "Zero Residual Line",
         "type": "scatter",
         "x": [
          -0.22665220803481745,
          2.2442263607859414
         ],
         "y": [
          0,
          0
         ]
        }
       ],
       "layout": {
        "showlegend": true,
        "template": {
         "data": {
          "bar": [
           {
            "error_x": {
             "color": "#2a3f5f"
            },
            "error_y": {
             "color": "#2a3f5f"
            },
            "marker": {
             "line": {
              "color": "#E5ECF6",
              "width": 0.5
             },
             "pattern": {
              "fillmode": "overlay",
              "size": 10,
              "solidity": 0.2
             }
            },
            "type": "bar"
           }
          ],
          "barpolar": [
           {
            "marker": {
             "line": {
              "color": "#E5ECF6",
              "width": 0.5
             },
             "pattern": {
              "fillmode": "overlay",
              "size": 10,
              "solidity": 0.2
             }
            },
            "type": "barpolar"
           }
          ],
          "carpet": [
           {
            "aaxis": {
             "endlinecolor": "#2a3f5f",
             "gridcolor": "white",
             "linecolor": "white",
             "minorgridcolor": "white",
             "startlinecolor": "#2a3f5f"
            },
            "baxis": {
             "endlinecolor": "#2a3f5f",
             "gridcolor": "white",
             "linecolor": "white",
             "minorgridcolor": "white",
             "startlinecolor": "#2a3f5f"
            },
            "type": "carpet"
           }
          ],
          "choropleth": [
           {
            "colorbar": {
             "outlinewidth": 0,
             "ticks": ""
            },
            "type": "choropleth"
           }
          ],
          "contour": [
           {
            "colorbar": {
             "outlinewidth": 0,
             "ticks": ""
            },
            "colorscale": [
             [
              0,
              "#0d0887"
             ],
             [
              0.1111111111111111,
              "#46039f"
             ],
             [
              0.2222222222222222,
              "#7201a8"
             ],
             [
              0.3333333333333333,
              "#9c179e"
             ],
             [
              0.4444444444444444,
              "#bd3786"
             ],
             [
              0.5555555555555556,
              "#d8576b"
             ],
             [
              0.6666666666666666,
              "#ed7953"
             ],
             [
              0.7777777777777778,
              "#fb9f3a"
             ],
             [
              0.8888888888888888,
              "#fdca26"
             ],
             [
              1,
              "#f0f921"
             ]
            ],
            "type": "contour"
           }
          ],
          "contourcarpet": [
           {
            "colorbar": {
             "outlinewidth": 0,
             "ticks": ""
            },
            "type": "contourcarpet"
           }
          ],
          "heatmap": [
           {
            "colorbar": {
             "outlinewidth": 0,
             "ticks": ""
            },
            "colorscale": [
             [
              0,
              "#0d0887"
             ],
             [
              0.1111111111111111,
              "#46039f"
             ],
             [
              0.2222222222222222,
              "#7201a8"
             ],
             [
              0.3333333333333333,
              "#9c179e"
             ],
             [
              0.4444444444444444,
              "#bd3786"
             ],
             [
              0.5555555555555556,
              "#d8576b"
             ],
             [
              0.6666666666666666,
              "#ed7953"
             ],
             [
              0.7777777777777778,
              "#fb9f3a"
             ],
             [
              0.8888888888888888,
              "#fdca26"
             ],
             [
              1,
              "#f0f921"
             ]
            ],
            "type": "heatmap"
           }
          ],
          "histogram": [
           {
            "marker": {
             "pattern": {
              "fillmode": "overlay",
              "size": 10,
              "solidity": 0.2
             }
            },
            "type": "histogram"
           }
          ],
          "histogram2d": [
           {
            "colorbar": {
             "outlinewidth": 0,
             "ticks": ""
            },
            "colorscale": [
             [
              0,
              "#0d0887"
             ],
             [
              0.1111111111111111,
              "#46039f"
             ],
             [
              0.2222222222222222,
              "#7201a8"
             ],
             [
              0.3333333333333333,
              "#9c179e"
             ],
             [
              0.4444444444444444,
              "#bd3786"
             ],
             [
              0.5555555555555556,
              "#d8576b"
             ],
             [
              0.6666666666666666,
              "#ed7953"
             ],
             [
              0.7777777777777778,
              "#fb9f3a"
             ],
             [
              0.8888888888888888,
              "#fdca26"
             ],
             [
              1,
              "#f0f921"
             ]
            ],
            "type": "histogram2d"
           }
          ],
          "histogram2dcontour": [
           {
            "colorbar": {
             "outlinewidth": 0,
             "ticks": ""
            },
            "colorscale": [
             [
              0,
              "#0d0887"
             ],
             [
              0.1111111111111111,
              "#46039f"
             ],
             [
              0.2222222222222222,
              "#7201a8"
             ],
             [
              0.3333333333333333,
              "#9c179e"
             ],
             [
              0.4444444444444444,
              "#bd3786"
             ],
             [
              0.5555555555555556,
              "#d8576b"
             ],
             [
              0.6666666666666666,
              "#ed7953"
             ],
             [
              0.7777777777777778,
              "#fb9f3a"
             ],
             [
              0.8888888888888888,
              "#fdca26"
             ],
             [
              1,
              "#f0f921"
             ]
            ],
            "type": "histogram2dcontour"
           }
          ],
          "mesh3d": [
           {
            "colorbar": {
             "outlinewidth": 0,
             "ticks": ""
            },
            "type": "mesh3d"
           }
          ],
          "parcoords": [
           {
            "line": {
             "colorbar": {
              "outlinewidth": 0,
              "ticks": ""
             }
            },
            "type": "parcoords"
           }
          ],
          "pie": [
           {
            "automargin": true,
            "type": "pie"
           }
          ],
          "scatter": [
           {
            "fillpattern": {
             "fillmode": "overlay",
             "size": 10,
             "solidity": 0.2
            },
            "type": "scatter"
           }
          ],
          "scatter3d": [
           {
            "line": {
             "colorbar": {
              "outlinewidth": 0,
              "ticks": ""
             }
            },
            "marker": {
             "colorbar": {
              "outlinewidth": 0,
              "ticks": ""
             }
            },
            "type": "scatter3d"
           }
          ],
          "scattercarpet": [
           {
            "marker": {
             "colorbar": {
              "outlinewidth": 0,
              "ticks": ""
             }
            },
            "type": "scattercarpet"
           }
          ],
          "scattergeo": [
           {
            "marker": {
             "colorbar": {
              "outlinewidth": 0,
              "ticks": ""
             }
            },
            "type": "scattergeo"
           }
          ],
          "scattergl": [
           {
            "marker": {
             "colorbar": {
              "outlinewidth": 0,
              "ticks": ""
             }
            },
            "type": "scattergl"
           }
          ],
          "scattermap": [
           {
            "marker": {
             "colorbar": {
              "outlinewidth": 0,
              "ticks": ""
             }
            },
            "type": "scattermap"
           }
          ],
          "scattermapbox": [
           {
            "marker": {
             "colorbar": {
              "outlinewidth": 0,
              "ticks": ""
             }
            },
            "type": "scattermapbox"
           }
          ],
          "scatterpolar": [
           {
            "marker": {
             "colorbar": {
              "outlinewidth": 0,
              "ticks": ""
             }
            },
            "type": "scatterpolar"
           }
          ],
          "scatterpolargl": [
           {
            "marker": {
             "colorbar": {
              "outlinewidth": 0,
              "ticks": ""
             }
            },
            "type": "scatterpolargl"
           }
          ],
          "scatterternary": [
           {
            "marker": {
             "colorbar": {
              "outlinewidth": 0,
              "ticks": ""
             }
            },
            "type": "scatterternary"
           }
          ],
          "surface": [
           {
            "colorbar": {
             "outlinewidth": 0,
             "ticks": ""
            },
            "colorscale": [
             [
              0,
              "#0d0887"
             ],
             [
              0.1111111111111111,
              "#46039f"
             ],
             [
              0.2222222222222222,
              "#7201a8"
             ],
             [
              0.3333333333333333,
              "#9c179e"
             ],
             [
              0.4444444444444444,
              "#bd3786"
             ],
             [
              0.5555555555555556,
              "#d8576b"
             ],
             [
              0.6666666666666666,
              "#ed7953"
             ],
             [
              0.7777777777777778,
              "#fb9f3a"
             ],
             [
              0.8888888888888888,
              "#fdca26"
             ],
             [
              1,
              "#f0f921"
             ]
            ],
            "type": "surface"
           }
          ],
          "table": [
           {
            "cells": {
             "fill": {
              "color": "#EBF0F8"
             },
             "line": {
              "color": "white"
             }
            },
            "header": {
             "fill": {
              "color": "#C8D4E3"
             },
             "line": {
              "color": "white"
             }
            },
            "type": "table"
           }
          ]
         },
         "layout": {
          "annotationdefaults": {
           "arrowcolor": "#2a3f5f",
           "arrowhead": 0,
           "arrowwidth": 1
          },
          "autotypenumbers": "strict",
          "coloraxis": {
           "colorbar": {
            "outlinewidth": 0,
            "ticks": ""
           }
          },
          "colorscale": {
           "diverging": [
            [
             0,
             "#8e0152"
            ],
            [
             0.1,
             "#c51b7d"
            ],
            [
             0.2,
             "#de77ae"
            ],
            [
             0.3,
             "#f1b6da"
            ],
            [
             0.4,
             "#fde0ef"
            ],
            [
             0.5,
             "#f7f7f7"
            ],
            [
             0.6,
             "#e6f5d0"
            ],
            [
             0.7,
             "#b8e186"
            ],
            [
             0.8,
             "#7fbc41"
            ],
            [
             0.9,
             "#4d9221"
            ],
            [
             1,
             "#276419"
            ]
           ],
           "sequential": [
            [
             0,
             "#0d0887"
            ],
            [
             0.1111111111111111,
             "#46039f"
            ],
            [
             0.2222222222222222,
             "#7201a8"
            ],
            [
             0.3333333333333333,
             "#9c179e"
            ],
            [
             0.4444444444444444,
             "#bd3786"
            ],
            [
             0.5555555555555556,
             "#d8576b"
            ],
            [
             0.6666666666666666,
             "#ed7953"
            ],
            [
             0.7777777777777778,
             "#fb9f3a"
            ],
            [
             0.8888888888888888,
             "#fdca26"
            ],
            [
             1,
             "#f0f921"
            ]
           ],
           "sequentialminus": [
            [
             0,
             "#0d0887"
            ],
            [
             0.1111111111111111,
             "#46039f"
            ],
            [
             0.2222222222222222,
             "#7201a8"
            ],
            [
             0.3333333333333333,
             "#9c179e"
            ],
            [
             0.4444444444444444,
             "#bd3786"
            ],
            [
             0.5555555555555556,
             "#d8576b"
            ],
            [
             0.6666666666666666,
             "#ed7953"
            ],
            [
             0.7777777777777778,
             "#fb9f3a"
            ],
            [
             0.8888888888888888,
             "#fdca26"
            ],
            [
             1,
             "#f0f921"
            ]
           ]
          },
          "colorway": [
           "#636efa",
           "#EF553B",
           "#00cc96",
           "#ab63fa",
           "#FFA15A",
           "#19d3f3",
           "#FF6692",
           "#B6E880",
           "#FF97FF",
           "#FECB52"
          ],
          "font": {
           "color": "#2a3f5f"
          },
          "geo": {
           "bgcolor": "white",
           "lakecolor": "white",
           "landcolor": "#E5ECF6",
           "showlakes": true,
           "showland": true,
           "subunitcolor": "white"
          },
          "hoverlabel": {
           "align": "left"
          },
          "hovermode": "closest",
          "mapbox": {
           "style": "light"
          },
          "paper_bgcolor": "white",
          "plot_bgcolor": "#E5ECF6",
          "polar": {
           "angularaxis": {
            "gridcolor": "white",
            "linecolor": "white",
            "ticks": ""
           },
           "bgcolor": "#E5ECF6",
           "radialaxis": {
            "gridcolor": "white",
            "linecolor": "white",
            "ticks": ""
           }
          },
          "scene": {
           "xaxis": {
            "backgroundcolor": "#E5ECF6",
            "gridcolor": "white",
            "gridwidth": 2,
            "linecolor": "white",
            "showbackground": true,
            "ticks": "",
            "zerolinecolor": "white"
           },
           "yaxis": {
            "backgroundcolor": "#E5ECF6",
            "gridcolor": "white",
            "gridwidth": 2,
            "linecolor": "white",
            "showbackground": true,
            "ticks": "",
            "zerolinecolor": "white"
           },
           "zaxis": {
            "backgroundcolor": "#E5ECF6",
            "gridcolor": "white",
            "gridwidth": 2,
            "linecolor": "white",
            "showbackground": true,
            "ticks": "",
            "zerolinecolor": "white"
           }
          },
          "shapedefaults": {
           "line": {
            "color": "#2a3f5f"
           }
          },
          "ternary": {
           "aaxis": {
            "gridcolor": "white",
            "linecolor": "white",
            "ticks": ""
           },
           "baxis": {
            "gridcolor": "white",
            "linecolor": "white",
            "ticks": ""
           },
           "bgcolor": "#E5ECF6",
           "caxis": {
            "gridcolor": "white",
            "linecolor": "white",
            "ticks": ""
           }
          },
          "title": {
           "x": 0.05
          },
          "xaxis": {
           "automargin": true,
           "gridcolor": "white",
           "linecolor": "white",
           "ticks": "",
           "title": {
            "standoff": 15
           },
           "zerolinecolor": "white",
           "zerolinewidth": 2
          },
          "yaxis": {
           "automargin": true,
           "gridcolor": "white",
           "linecolor": "white",
           "ticks": "",
           "title": {
            "standoff": 15
           },
           "zerolinecolor": "white",
           "zerolinewidth": 2
          }
         }
        },
        "title": {
         "text": "Residuals vs Fitted Values"
        },
        "xaxis": {
         "title": {
          "text": "Fitted Values"
         }
        },
        "yaxis": {
         "title": {
          "text": "Residuals"
         }
        }
       }
      }
     },
     "metadata": {},
     "output_type": "display_data"
    }
   ],
   "source": [
    "reg.do_all(X, Y)"
   ]
  },
  {
   "cell_type": "code",
   "execution_count": 37,
   "id": "a3fdbda3",
   "metadata": {},
   "outputs": [
    {
     "data": {
      "text/plain": [
       "array([7.87187450e-04, 2.29645347e-04, 2.68422712e-04, 1.92947423e-05,\n",
       "       7.26535645e-04, 6.19417900e-04, 2.10323282e-04, 2.06176155e-04,\n",
       "       6.41381761e-05, 8.41947608e-04, 1.63271521e-03, 8.05991834e-08,\n",
       "       1.07920432e-03, 1.80193118e-03, 1.93374830e-02, 7.02795700e-04,\n",
       "       2.81392339e-04, 5.73183908e-05, 2.13786604e-04, 1.92066328e-05,\n",
       "       2.54745230e-04, 4.27117929e-04, 2.56091470e-03, 3.73359977e-03,\n",
       "       1.14319246e-03, 3.97697686e-06, 1.02111783e-03, 5.92175675e-04,\n",
       "       1.04229000e-03, 5.10224146e-05, 1.79561621e-05, 2.22972687e-04,\n",
       "       8.76278451e-03, 7.58813470e-03, 4.96724891e-05, 1.81407963e-03,\n",
       "       5.39134187e-03, 2.59246738e-03, 7.64680858e-06, 3.29861506e-04,\n",
       "       1.45449586e-04, 2.45173628e-03, 3.63587932e-05, 8.34823588e-03,\n",
       "       4.12251420e-03, 1.50972241e-04, 4.85811034e-04, 2.63365136e-05,\n",
       "       1.20633065e-03, 4.32373981e-04, 8.37998537e-03, 4.80632057e-03,\n",
       "       1.56820233e-02, 5.90939340e-03, 1.09370604e-02, 1.06350355e-02,\n",
       "       1.32445077e-02, 1.76613954e-03, 4.26669508e-03, 8.98973613e-03,\n",
       "       6.35677402e-04, 4.08621279e-03, 7.97022410e-04, 9.29004490e-03,\n",
       "       2.56845727e-04, 4.12303157e-03, 2.43415956e-02, 9.33020086e-05,\n",
       "       3.87494968e-02, 5.43421899e-05, 5.55291211e-02, 8.34686024e-04,\n",
       "       2.16035917e-02, 8.04563505e-03, 1.60061499e-03, 4.29090804e-03,\n",
       "       1.35309165e-02, 2.17896736e-02, 5.58861083e-03, 2.44587893e-03,\n",
       "       2.71075887e-05, 7.50738440e-04, 1.83595999e-04, 3.90078269e-02,\n",
       "       4.48773197e-02, 2.05407830e-02, 9.31527490e-03, 1.00925054e-02,\n",
       "       2.79987944e-03, 3.48355618e-03, 9.33107382e-03, 6.63732944e-03,\n",
       "       5.41089374e-04, 2.14998614e-03, 3.80308675e-03, 1.95833955e-03,\n",
       "       2.73052984e-03, 1.38813704e-03, 3.60157238e-03, 1.63707137e-03,\n",
       "       2.29520958e-02, 8.98536838e-03, 1.26856084e-03, 1.12635178e-02,\n",
       "       3.56314603e-06, 4.85664789e-06, 6.86969284e-02, 1.44547147e-02,\n",
       "       9.32596207e-03, 7.60903064e-03, 9.74074622e-03, 5.89568191e-03,\n",
       "       3.15328276e-03, 7.79643302e-03, 1.40096667e-03, 5.24398973e-04,\n",
       "       1.03142259e-02, 1.10396331e-03, 1.24450422e-02, 5.38488580e-02,\n",
       "       1.64772345e-05, 1.09404465e-02, 5.18061056e-04, 1.72579430e-02,\n",
       "       1.83382828e-03, 2.02856000e-02, 1.62355860e-02, 1.24499495e-02,\n",
       "       6.60354244e-04, 5.92809355e-02, 1.02798031e-02, 1.58920238e-02,\n",
       "       5.86512065e-05, 3.81862614e-02, 1.20619397e-01, 1.47370029e-07,\n",
       "       2.73405562e-03, 1.42154645e-02, 1.52925442e-02, 6.41039069e-03,\n",
       "       8.01938091e-04, 1.08465114e-02, 8.98536838e-03, 3.44929877e-04,\n",
       "       5.54921885e-03, 3.39306926e-03, 1.90229022e-02, 6.54379272e-03,\n",
       "       1.93834757e-05, 1.82911605e-02])"
      ]
     },
     "execution_count": 37,
     "metadata": {},
     "output_type": "execute_result"
    }
   ],
   "source": [
    "reg.Cooks_distance(X,Y)"
   ]
  },
  {
   "cell_type": "code",
   "execution_count": 38,
   "id": "8439a82c",
   "metadata": {},
   "outputs": [],
   "source": [
    "\n",
    "\n",
    "\n",
    "#X= np.column_stack((Z, X))\n",
    "\n",
    "#Y = random_classes_int\n",
    "\n",
    "from sklearn.preprocessing import StandardScaler\n",
    "\n",
    "#scaler = StandardScaler()\n",
    "#X = scaler.fit_transform(X)"
   ]
  },
  {
   "cell_type": "code",
   "execution_count": 39,
   "id": "5bfbbf47",
   "metadata": {},
   "outputs": [],
   "source": [
    "import pandas as pd\n",
    "\n",
    "#X = pd.DataFrame(X, columns=[\"1\",\"2\",\"3\",\"4\",\"5\"])"
   ]
  },
  {
   "cell_type": "code",
   "execution_count": null,
   "id": "bb623756",
   "metadata": {},
   "outputs": [],
   "source": []
  },
  {
   "cell_type": "code",
   "execution_count": 40,
   "id": "8a0ce156",
   "metadata": {},
   "outputs": [
    {
     "name": "stdout",
     "output_type": "stream",
     "text": [
      "Converged at iteration 98, Δloss = 0.000092\n"
     ]
    },
    {
     "data": {
      "text/plain": [
       "<models.logistic.LogisticRegression at 0x246cd061b50>"
      ]
     },
     "execution_count": 40,
     "metadata": {},
     "output_type": "execute_result"
    }
   ],
   "source": [
    "\n",
    "log = LogisticRegression(\n",
    "                         regularization=\"None\", \n",
    "                         solver=\"LBFGS\",\n",
    "                         l2_ratio=0.5,\n",
    "                         l1_ratio= 0.9,\n",
    "                         lr=0.2, \n",
    "                         n_iter = 100,\n",
    "                         random_state = 0)\n",
    "log.fit(X, Y)"
   ]
  },
  {
   "cell_type": "code",
   "execution_count": 41,
   "id": "6a111b8a",
   "metadata": {},
   "outputs": [
    {
     "name": "stdout",
     "output_type": "stream",
     "text": [
      "0.98\n"
     ]
    },
    {
     "data": {
      "image/png": "[encoded data removed]",
      "text/plain": [
       "<Figure size 640x480 with 1 Axes>"
      ]
     },
     "metadata": {},
     "output_type": "display_data"
    }
   ],
   "source": [
    "pred = log.predict(X)\n",
    "\n",
    "print(balanced_accuracy(Y, pred))\n",
    "log.plot(1,0)"
   ]
  },
  {
   "cell_type": "code",
   "execution_count": 42,
   "id": "9a53176c",
   "metadata": {},
   "outputs": [
    {
     "data": {
      "text/plain": [
       "array([-0.3859424 ,  1.30502389, -1.15616675,  1.97745221,  1.44819824,\n",
       "       -1.04946974,  1.94967645, -0.28620951, -1.60665252, -3.33353555,\n",
       "       -0.43690016,  2.92463612, -0.62348388, -0.63258891,  2.55637924])"
      ]
     },
     "execution_count": 42,
     "metadata": {},
     "output_type": "execute_result"
    }
   ],
   "source": [
    "log.theta"
   ]
  },
  {
   "cell_type": "code",
   "execution_count": 43,
   "id": "3eeb75e6",
   "metadata": {},
   "outputs": [
    {
     "name": "stdout",
     "output_type": "stream",
     "text": [
      "Svm model should be used with two classes, use One vs All approach for multicalss problems.\n",
      "0.6666666666666666\n"
     ]
    },
    {
     "data": {
      "image/png": "[encoded data removed]",
      "text/plain": [
       "<Figure size 640x480 with 1 Axes>"
      ]
     },
     "metadata": {},
     "output_type": "display_data"
    }
   ],
   "source": [
    "svm = SVMClassificator(kernel=\"rbf\", n_iter=100, lr=0.01 , C=1, r=1, gamma=0.4).fit(X,Y)\n",
    "svm.predict(X)\n",
    "print(balanced_accuracy(Y, svm.predict(X)))\n",
    "svm.plot(0,1)"
   ]
  },
  {
   "cell_type": "code",
   "execution_count": 44,
   "id": "49c7401d",
   "metadata": {},
   "outputs": [
    {
     "name": "stdout",
     "output_type": "stream",
     "text": [
      "0.98\n",
      "[[50.  0.  0.]\n",
      " [ 0. 49.  1.]\n",
      " [ 0.  2. 48.]]\n"
     ]
    }
   ],
   "source": [
    "\n",
    "tree_class = DecisionTreeClassifier(max_depth=5)\n",
    "sample_weight = np.ones(len(Y)) * 0.1\n",
    "\n",
    "tree_class.fit(X, Y, \n",
    "         #sample_weight=sample_weight\n",
    "         )\n",
    "\n",
    "\n",
    "print(balanced_accuracy(Y, tree_class.predict(X)))\n",
    "print(confusion_matrix(Y, tree_class.predict(X)))"
   ]
  },
  {
   "cell_type": "code",
   "execution_count": 45,
   "id": "bfd4f12b",
   "metadata": {},
   "outputs": [
    {
     "name": "stdout",
     "output_type": "stream",
     "text": [
      "0.37333333333333335\n",
      "[[ 0. 50.  0.]\n",
      " [ 0.  6. 44.]\n",
      " [ 0.  0. 50.]]\n"
     ]
    }
   ],
   "source": [
    "log = LogisticRegression(\n",
    "                         X.shape[1], \n",
    "                         len(np.unique(Y)), \n",
    "                         verbose=False,\n",
    "                         random_state=1,\n",
    "                         solver=\"LBFGS\"\n",
    "                         )\n",
    "\n",
    "log.fit(X, Y, \n",
    "         sample_weight=sample_weight\n",
    "         )\n",
    "\n",
    "print(balanced_accuracy(Y, log.predict(X)))\n",
    "print(confusion_matrix(Y, log.predict(X)))"
   ]
  },
  {
   "cell_type": "code",
   "execution_count": 46,
   "id": "72f0bdc0",
   "metadata": {},
   "outputs": [
    {
     "name": "stdout",
     "output_type": "stream",
     "text": [
      "0.905\n",
      "[[92.  8.]\n",
      " [11. 89.]]\n",
      "⚠️ Estimator 2: weak learner has error 0.5000 (≥ 0.5). Skipping.\n",
      "⚠️ Estimator 3: weak learner has error 0.5000 (≥ 0.5). Skipping.\n",
      "0.965\n",
      "[[98.  2.]\n",
      " [ 5. 95.]]\n"
     ]
    }
   ],
   "source": [
    "\n",
    "\n",
    "X_lol, y_bin = make_classification(n_samples=200, n_features=5)\n",
    "y_bin = (y_bin == 1).astype(int)  \n",
    "\n",
    "log = LogisticRegression(\n",
    "                         verbose=False, \n",
    "                         solver=\"Lion\", \n",
    "                         lr=0.001,\n",
    "                         n_iter=1000,\n",
    "                         random_state=1,\n",
    "                         tol=1e-12\n",
    "                         )\n",
    "ada = AdaBoostClassifier(log, n_estimators=10, verbose=False)\n",
    "ada.fit(X_lol, y_bin)\n",
    "print(balanced_accuracy(y_bin, ada.predict(X_lol)))\n",
    "print(confusion_matrix(y_bin, ada.predict(X_lol)))\n",
    "\n",
    "ada = AdaBoostClassifier(tree_class, n_estimators=4)\n",
    "ada.fit(X_lol, y_bin)\n",
    "print(balanced_accuracy(y_bin, ada.predict(X_lol)))\n",
    "print(confusion_matrix(y_bin, ada.predict(X_lol)))"
   ]
  },
  {
   "cell_type": "code",
   "execution_count": 47,
   "id": "03b7fdcd",
   "metadata": {},
   "outputs": [
    {
     "name": "stdout",
     "output_type": "stream",
     "text": [
      "0.11877348719375246\n",
      "0.24109226182103163\n",
      "0.3446352959198353\n"
     ]
    }
   ],
   "source": [
    "\n",
    "\n",
    "tree_reg = DecisionTreeRegressor(max_depth = 2)\n",
    "\n",
    "\n",
    "ada_reg = AdaBoostRegressor(\n",
    "    tree_reg,\n",
    "    n_estimators=20,\n",
    "    verbose=False\n",
    ")\n",
    "\n",
    "ada_reg.fit(X_lol, y_bin)\n",
    "\n",
    "print(MSE(y_bin, ada_reg.predict(X_lol)))\n",
    "print(MAE(y_bin, ada_reg.predict(X_lol)))\n",
    "print(RMSE(y_bin, ada_reg.predict(X_lol)))\n"
   ]
  },
  {
   "cell_type": "code",
   "execution_count": 48,
   "id": "e83fb5f8",
   "metadata": {},
   "outputs": [
    {
     "name": "stdout",
     "output_type": "stream",
     "text": [
      "0.98\n",
      "[[50.  0.  0.]\n",
      " [ 0. 49.  1.]\n",
      " [ 0.  2. 48.]]\n"
     ]
    }
   ],
   "source": [
    "ada_log = AdaBoostClassifier(log, n_estimators=4)\n",
    "ada_tree = AdaBoostClassifier(tree_class, n_estimators=20, verbose=False)\n",
    "\n",
    "ova = OVA(\n",
    "    ada_tree\n",
    ")\n",
    "\n",
    "ova.fit(X, Y)\n",
    "preds = ova.predict(X)\n",
    "print(balanced_accuracy(Y, preds))\n",
    "print(confusion_matrix(Y, preds))"
   ]
  },
  {
   "cell_type": "code",
   "execution_count": 49,
   "id": "cbe861dd",
   "metadata": {},
   "outputs": [
    {
     "name": "stdout",
     "output_type": "stream",
     "text": [
      "0.98\n",
      "[[50.  0.  0.]\n",
      " [ 0. 47.  3.]\n",
      " [ 0.  0. 50.]]\n"
     ]
    }
   ],
   "source": [
    "from models.svm import SVMClassificator, SVMRegressor\n",
    "\n",
    "svm_class = SVMClassificator(\n",
    "lr=0.001,\n",
    "kernel=\"rbf\",\n",
    "n_iter=400,\n",
    "tolerance=1e-8\n",
    ")\n",
    "ova_svm = OVA(\n",
    "    svm_class\n",
    ")\n",
    "\n",
    "ova_svm.fit(X,Y)\n",
    "preds = ova_svm.predict(X)\n",
    "\n",
    "print(balanced_accuracy(Y, preds))\n",
    "print(confusion_matrix(Y, preds))\n",
    "\n"
   ]
  },
  {
   "cell_type": "code",
   "execution_count": 50,
   "id": "01e8b23f",
   "metadata": {},
   "outputs": [
    {
     "name": "stdout",
     "output_type": "stream",
     "text": [
      "0.06051714853320879\n",
      "0.20588807372370718\n",
      "0.2460023344060149\n"
     ]
    }
   ],
   "source": [
    "svm_reg = SVMRegressor(\n",
    "    kernel=\"rbf\"\n",
    ")\n",
    "svm_reg.fit(X, Y)\n",
    "\n",
    "\n",
    "print(MSE(Y, svm_reg.predict(X)))\n",
    "print(MAE(Y, svm_reg.predict(X)))\n",
    "print(RMSE(Y, svm_reg.predict(X)))"
   ]
  },
  {
   "cell_type": "code",
   "execution_count": 51,
   "id": "67c55dcd",
   "metadata": {},
   "outputs": [
    {
     "name": "stdout",
     "output_type": "stream",
     "text": [
      "0.012222222222222285\n",
      "0.02444444497426351\n",
      "0.11055415967851362\n"
     ]
    }
   ],
   "source": [
    "\n",
    "tree = DecisionTreeRegressor(max_depth = 5)\n",
    "tree.fit(X, Y)\n",
    "\n",
    "\n",
    "print(MSE(Y, tree.predict(X)))\n",
    "print(MAE(Y, tree.predict(X)))\n",
    "print(RMSE(Y, tree.predict(X)))\n"
   ]
  },
  {
   "cell_type": "code",
   "execution_count": 52,
   "id": "2ab43a13",
   "metadata": {},
   "outputs": [
    {
     "name": "stdout",
     "output_type": "stream",
     "text": [
      "Converged at iteration 436, Δloss = 0.000024\n",
      "Converged at iteration 233, Δloss = 0.000073\n",
      "0.98\n",
      "[[50.  0.  0.]\n",
      " [ 0. 50.  0.]\n",
      " [ 0.  3. 47.]]\n"
     ]
    }
   ],
   "source": [
    "from models.votingclassifier import VotingClassifier\n",
    "\n",
    "votes = VotingClassifier(\n",
    "    estimators = [\n",
    "        DecisionTreeClassifier(max_depth = 5),\n",
    "        LogisticRegression( \n",
    "                         regularization=\"elastic_net\", \n",
    "                         solver=\"ADABelief\",\n",
    "                         l2_ratio=0.5,\n",
    "                         l1_ratio= 0.9,\n",
    "                         lr=1, \n",
    "                         n_iter = 1000,\n",
    "                         random_state = 0),\n",
    "        LogisticRegression( \n",
    "                         regularization=\"l1\", \n",
    "                         solver=\"ADABelief\",\n",
    "                         #l2_ratio=0.5,\n",
    "                         l1_ratio= 0.09,\n",
    "                         lr=1, \n",
    "                         n_iter = 1000,\n",
    "                         random_state = 2,\n",
    "                         verbose=False),\n",
    "        LogisticRegression( \n",
    "                         regularization=\"elastic_net\", \n",
    "                         solver=\"Lion\",\n",
    "                         l2_ratio=0.5,\n",
    "                         l1_ratio= 0.9,\n",
    "                         lr=0.01, \n",
    "                         n_iter = 1000,\n",
    "                         random_state = 2),\n",
    "        #ova_svm\n",
    "        ],\n",
    "        soft_votting = True \n",
    ")\n",
    "\n",
    "votes.fit(X, Y)\n",
    "preds = votes.predict(X)\n",
    "print(balanced_accuracy(Y, preds))\n",
    "print(confusion_matrix(Y, preds))"
   ]
  },
  {
   "cell_type": "code",
   "execution_count": 53,
   "id": "4cbe43b9",
   "metadata": {},
   "outputs": [
    {
     "name": "stdout",
     "output_type": "stream",
     "text": [
      "Converged at iteration 27, Δloss = 0.000052\n",
      "Converged at iteration 24, Δloss = 0.000049\n",
      "0.9733333333333333\n",
      "[[50.  0.  0.]\n",
      " [ 0. 46.  4.]\n",
      " [ 0.  0. 50.]]\n"
     ]
    }
   ],
   "source": [
    "from models.bagging import BaggingClassifier\n",
    "\n",
    "bagging = BaggingClassifier(\n",
    "    LogisticRegression( \n",
    "    #max_depth = 5,\n",
    "    solver=\"LBFGS\"\n",
    "    ),\n",
    "    replacement=False,\n",
    "    n_splits = 2,\n",
    "    soft_voting = True\n",
    "\n",
    "\n",
    ")\n",
    "\n",
    "bagging.fit(X, Y)\n",
    "preds = bagging.predict(X)\n",
    "print(balanced_accuracy(Y, preds))\n",
    "print(confusion_matrix(Y, preds))\n"
   ]
  },
  {
   "cell_type": "code",
   "execution_count": 54,
   "id": "a06a2ef1",
   "metadata": {},
   "outputs": [
    {
     "name": "stdout",
     "output_type": "stream",
     "text": [
      "0.11389685277601946\n",
      "0.27053191622000006\n",
      "0.33748607789954754\n"
     ]
    }
   ],
   "source": [
    "from models.gradientboosting import GradientBoostingRegressor\n",
    "\n",
    "\n",
    "\n",
    "\n",
    "tree = GradientBoostingRegressor(DecisionTreeClassifier(), n_estimators=9)\n",
    "tree.fit(X, Y)\n",
    "\n",
    "\n",
    "print(MSE(Y, tree.predict(X)))\n",
    "print(MAE(Y, tree.predict(X)))\n",
    "print(RMSE(Y, tree.predict(X)))"
   ]
  },
  {
   "cell_type": "code",
   "execution_count": 55,
   "id": "828f5364",
   "metadata": {},
   "outputs": [
    {
     "name": "stdout",
     "output_type": "stream",
     "text": [
      "0.3333333333333333\n",
      "[[ 0. 50.  0.]\n",
      " [ 0. 50.  0.]\n",
      " [ 0. 50.  0.]]\n"
     ]
    }
   ],
   "source": [
    "from models.gradientboosting import GradientBoostingClassifier\n",
    "\n",
    "grad = GradientBoostingClassifier(\n",
    "    DecisionTreeClassifier(max_depth = 12),\n",
    "    n_estimators = 5,\n",
    "    lr=1\n",
    "    )\n",
    "\n",
    "grad.fit(X, Y)\n",
    "preds = grad.predict(X)\n",
    "print(balanced_accuracy(Y, preds))\n",
    "print(confusion_matrix(Y, preds))"
   ]
  },
  {
   "cell_type": "code",
   "execution_count": 56,
   "id": "fbbf3b22",
   "metadata": {},
   "outputs": [
    {
     "data": {
      "text/plain": [
       "array([1, 1, 1, 1, 1, 1, 1, 1, 1, 1, 1, 1, 1, 1, 1, 1, 1, 1, 1, 1, 1, 1,\n",
       "       1, 1, 1, 1, 1, 1, 1, 1, 1, 1, 1, 1, 1, 1, 1, 1, 1, 1, 1, 1, 1, 1,\n",
       "       1, 1, 1, 1, 1, 1, 1, 1, 1, 1, 1, 1, 1, 1, 1, 1, 1, 1, 1, 1, 1, 1,\n",
       "       1, 1, 1, 1, 1, 1, 1, 1, 1, 1, 1, 1, 1, 1, 1, 1, 1, 1, 1, 1, 1, 1,\n",
       "       1, 1, 1, 1, 1, 1, 1, 1, 1, 1, 1, 1, 1, 1, 1, 1, 1, 1, 1, 1, 1, 1,\n",
       "       1, 1, 1, 1, 1, 1, 1, 1, 1, 1, 1, 1, 1, 1, 1, 1, 1, 1, 1, 1, 1, 1,\n",
       "       1, 1, 1, 1, 1, 1, 1, 1, 1, 1, 1, 1, 1, 1, 1, 1, 1, 1])"
      ]
     },
     "execution_count": 56,
     "metadata": {},
     "output_type": "execute_result"
    }
   ],
   "source": [
    "preds"
   ]
  },
  {
   "cell_type": "code",
   "execution_count": 57,
   "id": "a15201e3",
   "metadata": {},
   "outputs": [
    {
     "data": {
      "text/plain": [
       "array([[0.965, 0.035],\n",
       "       [0.965, 0.035],\n",
       "       [0.965, 0.035],\n",
       "       [0.965, 0.035],\n",
       "       [0.965, 0.035],\n",
       "       [0.965, 0.035],\n",
       "       [0.965, 0.035],\n",
       "       [0.965, 0.035],\n",
       "       [0.965, 0.035],\n",
       "       [0.965, 0.035],\n",
       "       [0.965, 0.035],\n",
       "       [0.965, 0.035],\n",
       "       [0.965, 0.035],\n",
       "       [0.965, 0.035],\n",
       "       [0.965, 0.035],\n",
       "       [0.965, 0.035],\n",
       "       [0.965, 0.035],\n",
       "       [0.965, 0.035],\n",
       "       [0.965, 0.035],\n",
       "       [0.965, 0.035],\n",
       "       [0.965, 0.035],\n",
       "       [0.965, 0.035],\n",
       "       [0.965, 0.035],\n",
       "       [0.965, 0.035],\n",
       "       [0.965, 0.035],\n",
       "       [0.965, 0.035],\n",
       "       [0.965, 0.035],\n",
       "       [0.965, 0.035],\n",
       "       [0.965, 0.035],\n",
       "       [0.965, 0.035],\n",
       "       [0.965, 0.035],\n",
       "       [0.965, 0.035],\n",
       "       [0.965, 0.035],\n",
       "       [0.965, 0.035],\n",
       "       [0.965, 0.035],\n",
       "       [0.965, 0.035],\n",
       "       [0.965, 0.035],\n",
       "       [0.965, 0.035],\n",
       "       [0.965, 0.035],\n",
       "       [0.965, 0.035],\n",
       "       [0.965, 0.035],\n",
       "       [0.965, 0.035],\n",
       "       [0.965, 0.035],\n",
       "       [0.965, 0.035],\n",
       "       [0.965, 0.035],\n",
       "       [0.965, 0.035],\n",
       "       [0.965, 0.035],\n",
       "       [0.965, 0.035],\n",
       "       [0.965, 0.035],\n",
       "       [0.965, 0.035],\n",
       "       [0.965, 0.035],\n",
       "       [0.965, 0.035],\n",
       "       [0.965, 0.035],\n",
       "       [0.965, 0.035],\n",
       "       [0.965, 0.035],\n",
       "       [0.965, 0.035],\n",
       "       [0.965, 0.035],\n",
       "       [0.965, 0.035],\n",
       "       [0.965, 0.035],\n",
       "       [0.965, 0.035],\n",
       "       [0.965, 0.035],\n",
       "       [0.965, 0.035],\n",
       "       [0.965, 0.035],\n",
       "       [0.965, 0.035],\n",
       "       [0.965, 0.035],\n",
       "       [0.965, 0.035],\n",
       "       [0.965, 0.035],\n",
       "       [0.965, 0.035],\n",
       "       [0.965, 0.035],\n",
       "       [0.965, 0.035],\n",
       "       [0.965, 0.035],\n",
       "       [0.965, 0.035],\n",
       "       [0.965, 0.035],\n",
       "       [0.965, 0.035],\n",
       "       [0.965, 0.035],\n",
       "       [0.965, 0.035],\n",
       "       [0.965, 0.035],\n",
       "       [0.965, 0.035],\n",
       "       [0.965, 0.035],\n",
       "       [0.965, 0.035],\n",
       "       [0.965, 0.035],\n",
       "       [0.965, 0.035],\n",
       "       [0.965, 0.035],\n",
       "       [0.965, 0.035],\n",
       "       [0.965, 0.035],\n",
       "       [0.965, 0.035],\n",
       "       [0.965, 0.035],\n",
       "       [0.965, 0.035],\n",
       "       [0.965, 0.035],\n",
       "       [0.965, 0.035],\n",
       "       [0.965, 0.035],\n",
       "       [0.965, 0.035],\n",
       "       [0.965, 0.035],\n",
       "       [0.965, 0.035],\n",
       "       [0.965, 0.035],\n",
       "       [0.965, 0.035],\n",
       "       [0.965, 0.035],\n",
       "       [0.965, 0.035],\n",
       "       [0.965, 0.035],\n",
       "       [0.965, 0.035],\n",
       "       [0.965, 0.035],\n",
       "       [0.965, 0.035],\n",
       "       [0.965, 0.035],\n",
       "       [0.965, 0.035],\n",
       "       [0.965, 0.035],\n",
       "       [0.965, 0.035],\n",
       "       [0.965, 0.035],\n",
       "       [0.965, 0.035],\n",
       "       [0.965, 0.035],\n",
       "       [0.965, 0.035],\n",
       "       [0.965, 0.035],\n",
       "       [0.965, 0.035],\n",
       "       [0.965, 0.035],\n",
       "       [0.965, 0.035],\n",
       "       [0.965, 0.035],\n",
       "       [0.965, 0.035],\n",
       "       [0.965, 0.035],\n",
       "       [0.965, 0.035],\n",
       "       [0.965, 0.035],\n",
       "       [0.965, 0.035],\n",
       "       [0.965, 0.035],\n",
       "       [0.965, 0.035],\n",
       "       [0.965, 0.035],\n",
       "       [0.965, 0.035],\n",
       "       [0.965, 0.035],\n",
       "       [0.965, 0.035],\n",
       "       [0.965, 0.035],\n",
       "       [0.965, 0.035],\n",
       "       [0.965, 0.035],\n",
       "       [0.965, 0.035],\n",
       "       [0.965, 0.035],\n",
       "       [0.965, 0.035],\n",
       "       [0.965, 0.035],\n",
       "       [0.965, 0.035],\n",
       "       [0.965, 0.035],\n",
       "       [0.965, 0.035],\n",
       "       [0.965, 0.035],\n",
       "       [0.965, 0.035],\n",
       "       [0.965, 0.035],\n",
       "       [0.965, 0.035],\n",
       "       [0.965, 0.035],\n",
       "       [0.965, 0.035],\n",
       "       [0.965, 0.035],\n",
       "       [0.965, 0.035],\n",
       "       [0.965, 0.035],\n",
       "       [0.965, 0.035],\n",
       "       [0.965, 0.035],\n",
       "       [0.965, 0.035],\n",
       "       [0.965, 0.035],\n",
       "       [0.965, 0.035]])"
      ]
     },
     "execution_count": 57,
     "metadata": {},
     "output_type": "execute_result"
    }
   ],
   "source": [
    "ada.predict_proba(X)"
   ]
  }
 ],
 "metadata": {
  "kernelspec": {
   "display_name": "app",
   "language": "python",
   "name": "python3"
  },
  "language_info": {
   "codemirror_mode": {
    "name": "ipython",
    "version": 3
   },
   "file_extension": ".py",
   "mimetype": "text/x-python",
   "name": "python",
   "nbconvert_exporter": "python",
   "pygments_lexer": "ipython3",
   "version": "3.13.4"
  }
 },
 "nbformat": 4,
 "nbformat_minor": 5
}
